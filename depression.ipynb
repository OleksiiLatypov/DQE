{
  "metadata": {
    "kernelspec": {
      "language": "python",
      "display_name": "Python 3",
      "name": "python3"
    },
    "language_info": {
      "name": "python",
      "version": "3.10.14",
      "mimetype": "text/x-python",
      "codemirror_mode": {
        "name": "ipython",
        "version": 3
      },
      "pygments_lexer": "ipython3",
      "nbconvert_exporter": "python",
      "file_extension": ".py"
    },
    "kaggle": {
      "accelerator": "none",
      "dataSources": [
        {
          "sourceId": 84895,
          "databundleVersionId": 10008389,
          "sourceType": "competition"
        },
        {
          "sourceId": 9779163,
          "sourceType": "datasetVersion",
          "datasetId": 5990832
        }
      ],
      "dockerImageVersionId": 30786,
      "isInternetEnabled": true,
      "language": "python",
      "sourceType": "notebook",
      "isGpuEnabled": false
    },
    "colab": {
      "name": "depression",
      "provenance": [],
      "include_colab_link": true
    }
  },
  "nbformat_minor": 0,
  "nbformat": 4,
  "cells": [
    {
      "cell_type": "markdown",
      "metadata": {
        "id": "view-in-github",
        "colab_type": "text"
      },
      "source": [
        "<a href=\"https://colab.research.google.com/github/OleksiiLatypov/Epam_DQE/blob/main/depression.ipynb\" target=\"_parent\"><img src=\"https://colab.research.google.com/assets/colab-badge.svg\" alt=\"Open In Colab\"/></a>"
      ]
    },
    {
      "source": [
        "# IMPORTANT: SOME KAGGLE DATA SOURCES ARE PRIVATE\n",
        "# RUN THIS CELL IN ORDER TO IMPORT YOUR KAGGLE DATA SOURCES.\n",
        "import kagglehub\n",
        "kagglehub.login()\n"
      ],
      "metadata": {
        "id": "MPk57b2PEnsq"
      },
      "cell_type": "code",
      "outputs": [],
      "execution_count": null
    },
    {
      "source": [
        "# IMPORTANT: RUN THIS CELL IN ORDER TO IMPORT YOUR KAGGLE DATA SOURCES,\n",
        "# THEN FEEL FREE TO DELETE THIS CELL.\n",
        "# NOTE: THIS NOTEBOOK ENVIRONMENT DIFFERS FROM KAGGLE'S PYTHON\n",
        "# ENVIRONMENT SO THERE MAY BE MISSING LIBRARIES USED BY YOUR\n",
        "# NOTEBOOK.\n",
        "\n",
        "playground_series_s4e11_path = kagglehub.competition_download('playground-series-s4e11')\n",
        "oleksiilatypov_depression_original_dataset_path = kagglehub.dataset_download('oleksiilatypov/depression-original-dataset')\n",
        "\n",
        "print('Data source import complete.')\n"
      ],
      "metadata": {
        "id": "lsDhTwBoEnst"
      },
      "cell_type": "code",
      "outputs": [],
      "execution_count": null
    },
    {
      "cell_type": "code",
      "source": [
        "# This Python 3 environment comes with many helpful analytics libraries installed\n",
        "# It is defined by the kaggle/python Docker image: https://github.com/kaggle/docker-python\n",
        "# For example, here's several helpful packages to load\n",
        "\n",
        "import numpy as np # linear algebra\n",
        "import pandas as pd # data processing, CSV file I/O (e.g. pd.read_csv)\n",
        "import matplotlib.pyplot as plt\n",
        "import seaborn as sns\n",
        "import pickle\n",
        "# Input data files are available in the read-only \"../input/\" directory\n",
        "# For example, running this (by clicking run or pressing Shift+Enter) will list all files under the input directory\n",
        "\n",
        "import os\n",
        "for dirname, _, filenames in os.walk('/kaggle/input'):\n",
        "    for filename in filenames:\n",
        "        print(os.path.join(dirname, filename))\n",
        "\n",
        "# You can write up to 20GB to the current directory (/kaggle/working/) that gets preserved as output when you create a version using \"Save & Run All\"\n",
        "# You can also write temporary files to /kaggle/temp/, but they won't be saved outside of the current session"
      ],
      "metadata": {
        "_uuid": "8f2839f25d086af736a60e9eeb907d3b93b6e0e5",
        "_cell_guid": "b1076dfc-b9ad-4769-8c92-a6c4dae69d19",
        "execution": {
          "iopub.status.busy": "2024-11-04T11:04:47.182716Z",
          "iopub.execute_input": "2024-11-04T11:04:47.184271Z",
          "iopub.status.idle": "2024-11-04T11:04:47.19725Z",
          "shell.execute_reply.started": "2024-11-04T11:04:47.184193Z",
          "shell.execute_reply": "2024-11-04T11:04:47.195753Z"
        },
        "trusted": true,
        "id": "t-rl8i7dEnsu",
        "outputId": "fab961de-8288-4f4a-d082-7be79ac7a0e0"
      },
      "execution_count": null,
      "outputs": [
        {
          "name": "stdout",
          "text": "/kaggle/input/depression-original-dataset/final_depression_dataset_1.csv\n/kaggle/input/playground-series-s4e11/sample_submission.csv\n/kaggle/input/playground-series-s4e11/train.csv\n/kaggle/input/playground-series-s4e11/test.csv\n",
          "output_type": "stream"
        }
      ]
    },
    {
      "cell_type": "code",
      "source": [
        "train = pd.read_csv('/kaggle/input/playground-series-s4e11/train.csv')\n",
        "test = pd.read_csv('/kaggle/input/playground-series-s4e11/test.csv')\n",
        "original = pd.read_csv('/kaggle/input/depression-original-dataset/final_depression_dataset_1.csv')"
      ],
      "metadata": {
        "execution": {
          "iopub.status.busy": "2024-11-04T11:32:35.639373Z",
          "iopub.execute_input": "2024-11-04T11:32:35.63995Z",
          "iopub.status.idle": "2024-11-04T11:32:36.671188Z",
          "shell.execute_reply.started": "2024-11-04T11:32:35.639898Z",
          "shell.execute_reply": "2024-11-04T11:32:36.669199Z"
        },
        "trusted": true,
        "id": "vX_MAhAlEnsv"
      },
      "execution_count": null,
      "outputs": []
    },
    {
      "cell_type": "code",
      "source": [
        "train.columns = train.columns.str.lower().str.replace(' ', '_')\n",
        "test.columns = test.columns.str.lower().str.replace(' ', '_')\n",
        "original.columns = original.columns.str.lower().str.replace(' ', '_')"
      ],
      "metadata": {
        "execution": {
          "iopub.status.busy": "2024-11-04T11:32:38.38961Z",
          "iopub.execute_input": "2024-11-04T11:32:38.390881Z",
          "iopub.status.idle": "2024-11-04T11:32:38.400433Z",
          "shell.execute_reply.started": "2024-11-04T11:32:38.390768Z",
          "shell.execute_reply": "2024-11-04T11:32:38.398938Z"
        },
        "trusted": true,
        "id": "ACNWLlaLEnsv"
      },
      "execution_count": null,
      "outputs": []
    },
    {
      "cell_type": "code",
      "source": [
        "train.head()"
      ],
      "metadata": {
        "execution": {
          "iopub.status.busy": "2024-11-04T11:32:39.880822Z",
          "iopub.execute_input": "2024-11-04T11:32:39.881995Z",
          "iopub.status.idle": "2024-11-04T11:32:39.912186Z",
          "shell.execute_reply.started": "2024-11-04T11:32:39.881936Z",
          "shell.execute_reply": "2024-11-04T11:32:39.910738Z"
        },
        "trusted": true,
        "id": "YZ7Qq7okEnsv",
        "outputId": "815d65de-4165-41e4-bd5a-386375f44696"
      },
      "execution_count": null,
      "outputs": [
        {
          "execution_count": 287,
          "output_type": "execute_result",
          "data": {
            "text/plain": "   id      name  gender   age           city working_professional_or_student  \\\n0   0  Aaradhya  Female  49.0       Ludhiana            Working Professional   \n1   1     Vivan    Male  26.0       Varanasi            Working Professional   \n2   2    Yuvraj    Male  33.0  Visakhapatnam                         Student   \n3   3    Yuvraj    Male  22.0         Mumbai            Working Professional   \n4   4      Rhea  Female  30.0         Kanpur            Working Professional   \n\n         profession  academic_pressure  work_pressure  cgpa  \\\n0              Chef                NaN            5.0   NaN   \n1           Teacher                NaN            4.0   NaN   \n2               NaN                5.0            NaN  8.97   \n3           Teacher                NaN            5.0   NaN   \n4  Business Analyst                NaN            1.0   NaN   \n\n   study_satisfaction  job_satisfaction     sleep_duration dietary_habits  \\\n0                 NaN               2.0  More than 8 hours        Healthy   \n1                 NaN               3.0  Less than 5 hours      Unhealthy   \n2                 2.0               NaN          5-6 hours        Healthy   \n3                 NaN               1.0  Less than 5 hours       Moderate   \n4                 NaN               1.0          5-6 hours      Unhealthy   \n\n    degree have_you_ever_had_suicidal_thoughts_?  work/study_hours  \\\n0      BHM                                    No               1.0   \n1      LLB                                   Yes               7.0   \n2  B.Pharm                                   Yes               3.0   \n3      BBA                                   Yes              10.0   \n4      BBA                                   Yes               9.0   \n\n   financial_stress family_history_of_mental_illness  depression  \n0               2.0                               No           0  \n1               3.0                               No           1  \n2               1.0                               No           1  \n3               1.0                              Yes           1  \n4               4.0                              Yes           0  ",
            "text/html": "<div>\n<style scoped>\n    .dataframe tbody tr th:only-of-type {\n        vertical-align: middle;\n    }\n\n    .dataframe tbody tr th {\n        vertical-align: top;\n    }\n\n    .dataframe thead th {\n        text-align: right;\n    }\n</style>\n<table border=\"1\" class=\"dataframe\">\n  <thead>\n    <tr style=\"text-align: right;\">\n      <th></th>\n      <th>id</th>\n      <th>name</th>\n      <th>gender</th>\n      <th>age</th>\n      <th>city</th>\n      <th>working_professional_or_student</th>\n      <th>profession</th>\n      <th>academic_pressure</th>\n      <th>work_pressure</th>\n      <th>cgpa</th>\n      <th>study_satisfaction</th>\n      <th>job_satisfaction</th>\n      <th>sleep_duration</th>\n      <th>dietary_habits</th>\n      <th>degree</th>\n      <th>have_you_ever_had_suicidal_thoughts_?</th>\n      <th>work/study_hours</th>\n      <th>financial_stress</th>\n      <th>family_history_of_mental_illness</th>\n      <th>depression</th>\n    </tr>\n  </thead>\n  <tbody>\n    <tr>\n      <th>0</th>\n      <td>0</td>\n      <td>Aaradhya</td>\n      <td>Female</td>\n      <td>49.0</td>\n      <td>Ludhiana</td>\n      <td>Working Professional</td>\n      <td>Chef</td>\n      <td>NaN</td>\n      <td>5.0</td>\n      <td>NaN</td>\n      <td>NaN</td>\n      <td>2.0</td>\n      <td>More than 8 hours</td>\n      <td>Healthy</td>\n      <td>BHM</td>\n      <td>No</td>\n      <td>1.0</td>\n      <td>2.0</td>\n      <td>No</td>\n      <td>0</td>\n    </tr>\n    <tr>\n      <th>1</th>\n      <td>1</td>\n      <td>Vivan</td>\n      <td>Male</td>\n      <td>26.0</td>\n      <td>Varanasi</td>\n      <td>Working Professional</td>\n      <td>Teacher</td>\n      <td>NaN</td>\n      <td>4.0</td>\n      <td>NaN</td>\n      <td>NaN</td>\n      <td>3.0</td>\n      <td>Less than 5 hours</td>\n      <td>Unhealthy</td>\n      <td>LLB</td>\n      <td>Yes</td>\n      <td>7.0</td>\n      <td>3.0</td>\n      <td>No</td>\n      <td>1</td>\n    </tr>\n    <tr>\n      <th>2</th>\n      <td>2</td>\n      <td>Yuvraj</td>\n      <td>Male</td>\n      <td>33.0</td>\n      <td>Visakhapatnam</td>\n      <td>Student</td>\n      <td>NaN</td>\n      <td>5.0</td>\n      <td>NaN</td>\n      <td>8.97</td>\n      <td>2.0</td>\n      <td>NaN</td>\n      <td>5-6 hours</td>\n      <td>Healthy</td>\n      <td>B.Pharm</td>\n      <td>Yes</td>\n      <td>3.0</td>\n      <td>1.0</td>\n      <td>No</td>\n      <td>1</td>\n    </tr>\n    <tr>\n      <th>3</th>\n      <td>3</td>\n      <td>Yuvraj</td>\n      <td>Male</td>\n      <td>22.0</td>\n      <td>Mumbai</td>\n      <td>Working Professional</td>\n      <td>Teacher</td>\n      <td>NaN</td>\n      <td>5.0</td>\n      <td>NaN</td>\n      <td>NaN</td>\n      <td>1.0</td>\n      <td>Less than 5 hours</td>\n      <td>Moderate</td>\n      <td>BBA</td>\n      <td>Yes</td>\n      <td>10.0</td>\n      <td>1.0</td>\n      <td>Yes</td>\n      <td>1</td>\n    </tr>\n    <tr>\n      <th>4</th>\n      <td>4</td>\n      <td>Rhea</td>\n      <td>Female</td>\n      <td>30.0</td>\n      <td>Kanpur</td>\n      <td>Working Professional</td>\n      <td>Business Analyst</td>\n      <td>NaN</td>\n      <td>1.0</td>\n      <td>NaN</td>\n      <td>NaN</td>\n      <td>1.0</td>\n      <td>5-6 hours</td>\n      <td>Unhealthy</td>\n      <td>BBA</td>\n      <td>Yes</td>\n      <td>9.0</td>\n      <td>4.0</td>\n      <td>Yes</td>\n      <td>0</td>\n    </tr>\n  </tbody>\n</table>\n</div>"
          },
          "metadata": {}
        }
      ]
    },
    {
      "cell_type": "code",
      "source": [
        "train.head(3)"
      ],
      "metadata": {
        "execution": {
          "iopub.status.busy": "2024-11-04T11:32:42.746027Z",
          "iopub.execute_input": "2024-11-04T11:32:42.74727Z",
          "iopub.status.idle": "2024-11-04T11:32:42.773497Z",
          "shell.execute_reply.started": "2024-11-04T11:32:42.747216Z",
          "shell.execute_reply": "2024-11-04T11:32:42.77219Z"
        },
        "trusted": true,
        "id": "SMcvjqFBEnsw",
        "outputId": "28f21993-367a-4fe3-a7dc-0ec14a69666a"
      },
      "execution_count": null,
      "outputs": [
        {
          "execution_count": 288,
          "output_type": "execute_result",
          "data": {
            "text/plain": "   id      name  gender   age           city working_professional_or_student  \\\n0   0  Aaradhya  Female  49.0       Ludhiana            Working Professional   \n1   1     Vivan    Male  26.0       Varanasi            Working Professional   \n2   2    Yuvraj    Male  33.0  Visakhapatnam                         Student   \n\n  profession  academic_pressure  work_pressure  cgpa  study_satisfaction  \\\n0       Chef                NaN            5.0   NaN                 NaN   \n1    Teacher                NaN            4.0   NaN                 NaN   \n2        NaN                5.0            NaN  8.97                 2.0   \n\n   job_satisfaction     sleep_duration dietary_habits   degree  \\\n0               2.0  More than 8 hours        Healthy      BHM   \n1               3.0  Less than 5 hours      Unhealthy      LLB   \n2               NaN          5-6 hours        Healthy  B.Pharm   \n\n  have_you_ever_had_suicidal_thoughts_?  work/study_hours  financial_stress  \\\n0                                    No               1.0               2.0   \n1                                   Yes               7.0               3.0   \n2                                   Yes               3.0               1.0   \n\n  family_history_of_mental_illness  depression  \n0                               No           0  \n1                               No           1  \n2                               No           1  ",
            "text/html": "<div>\n<style scoped>\n    .dataframe tbody tr th:only-of-type {\n        vertical-align: middle;\n    }\n\n    .dataframe tbody tr th {\n        vertical-align: top;\n    }\n\n    .dataframe thead th {\n        text-align: right;\n    }\n</style>\n<table border=\"1\" class=\"dataframe\">\n  <thead>\n    <tr style=\"text-align: right;\">\n      <th></th>\n      <th>id</th>\n      <th>name</th>\n      <th>gender</th>\n      <th>age</th>\n      <th>city</th>\n      <th>working_professional_or_student</th>\n      <th>profession</th>\n      <th>academic_pressure</th>\n      <th>work_pressure</th>\n      <th>cgpa</th>\n      <th>study_satisfaction</th>\n      <th>job_satisfaction</th>\n      <th>sleep_duration</th>\n      <th>dietary_habits</th>\n      <th>degree</th>\n      <th>have_you_ever_had_suicidal_thoughts_?</th>\n      <th>work/study_hours</th>\n      <th>financial_stress</th>\n      <th>family_history_of_mental_illness</th>\n      <th>depression</th>\n    </tr>\n  </thead>\n  <tbody>\n    <tr>\n      <th>0</th>\n      <td>0</td>\n      <td>Aaradhya</td>\n      <td>Female</td>\n      <td>49.0</td>\n      <td>Ludhiana</td>\n      <td>Working Professional</td>\n      <td>Chef</td>\n      <td>NaN</td>\n      <td>5.0</td>\n      <td>NaN</td>\n      <td>NaN</td>\n      <td>2.0</td>\n      <td>More than 8 hours</td>\n      <td>Healthy</td>\n      <td>BHM</td>\n      <td>No</td>\n      <td>1.0</td>\n      <td>2.0</td>\n      <td>No</td>\n      <td>0</td>\n    </tr>\n    <tr>\n      <th>1</th>\n      <td>1</td>\n      <td>Vivan</td>\n      <td>Male</td>\n      <td>26.0</td>\n      <td>Varanasi</td>\n      <td>Working Professional</td>\n      <td>Teacher</td>\n      <td>NaN</td>\n      <td>4.0</td>\n      <td>NaN</td>\n      <td>NaN</td>\n      <td>3.0</td>\n      <td>Less than 5 hours</td>\n      <td>Unhealthy</td>\n      <td>LLB</td>\n      <td>Yes</td>\n      <td>7.0</td>\n      <td>3.0</td>\n      <td>No</td>\n      <td>1</td>\n    </tr>\n    <tr>\n      <th>2</th>\n      <td>2</td>\n      <td>Yuvraj</td>\n      <td>Male</td>\n      <td>33.0</td>\n      <td>Visakhapatnam</td>\n      <td>Student</td>\n      <td>NaN</td>\n      <td>5.0</td>\n      <td>NaN</td>\n      <td>8.97</td>\n      <td>2.0</td>\n      <td>NaN</td>\n      <td>5-6 hours</td>\n      <td>Healthy</td>\n      <td>B.Pharm</td>\n      <td>Yes</td>\n      <td>3.0</td>\n      <td>1.0</td>\n      <td>No</td>\n      <td>1</td>\n    </tr>\n  </tbody>\n</table>\n</div>"
          },
          "metadata": {}
        }
      ]
    },
    {
      "cell_type": "code",
      "source": [
        "original.head(3)"
      ],
      "metadata": {
        "execution": {
          "iopub.status.busy": "2024-11-04T11:32:45.009132Z",
          "iopub.execute_input": "2024-11-04T11:32:45.010317Z",
          "iopub.status.idle": "2024-11-04T11:32:45.037216Z",
          "shell.execute_reply.started": "2024-11-04T11:32:45.010261Z",
          "shell.execute_reply": "2024-11-04T11:32:45.035864Z"
        },
        "trusted": true,
        "id": "c7nxZS0MEnsw",
        "outputId": "50d60079-beb1-4d0d-c316-641fa5930de3"
      },
      "execution_count": null,
      "outputs": [
        {
          "execution_count": 289,
          "output_type": "execute_result",
          "data": {
            "text/plain": "      name  gender  age       city working_professional_or_student  \\\n0    Pooja  Female   37  Ghaziabad            Working Professional   \n1  Reyansh    Male   60     Kalyan            Working Professional   \n2    Manvi  Female   42     Bhopal            Working Professional   \n\n          profession  academic_pressure  work_pressure  cgpa  \\\n0            Teacher                NaN            2.0   NaN   \n1  Financial Analyst                NaN            4.0   NaN   \n2            Teacher                NaN            2.0   NaN   \n\n   study_satisfaction  job_satisfaction sleep_duration dietary_habits degree  \\\n0                 NaN               4.0      7-8 hours       Moderate     MA   \n1                 NaN               3.0      5-6 hours      Unhealthy  B.Com   \n2                 NaN               3.0      5-6 hours       Moderate  M.Com   \n\n  have_you_ever_had_suicidal_thoughts_?  work/study_hours  financial_stress  \\\n0                                    No                 6                 2   \n1                                   Yes                 0                 4   \n2                                    No                 0                 2   \n\n  family_history_of_mental_illness depression  \n0                               No         No  \n1                              Yes         No  \n2                               No         No  ",
            "text/html": "<div>\n<style scoped>\n    .dataframe tbody tr th:only-of-type {\n        vertical-align: middle;\n    }\n\n    .dataframe tbody tr th {\n        vertical-align: top;\n    }\n\n    .dataframe thead th {\n        text-align: right;\n    }\n</style>\n<table border=\"1\" class=\"dataframe\">\n  <thead>\n    <tr style=\"text-align: right;\">\n      <th></th>\n      <th>name</th>\n      <th>gender</th>\n      <th>age</th>\n      <th>city</th>\n      <th>working_professional_or_student</th>\n      <th>profession</th>\n      <th>academic_pressure</th>\n      <th>work_pressure</th>\n      <th>cgpa</th>\n      <th>study_satisfaction</th>\n      <th>job_satisfaction</th>\n      <th>sleep_duration</th>\n      <th>dietary_habits</th>\n      <th>degree</th>\n      <th>have_you_ever_had_suicidal_thoughts_?</th>\n      <th>work/study_hours</th>\n      <th>financial_stress</th>\n      <th>family_history_of_mental_illness</th>\n      <th>depression</th>\n    </tr>\n  </thead>\n  <tbody>\n    <tr>\n      <th>0</th>\n      <td>Pooja</td>\n      <td>Female</td>\n      <td>37</td>\n      <td>Ghaziabad</td>\n      <td>Working Professional</td>\n      <td>Teacher</td>\n      <td>NaN</td>\n      <td>2.0</td>\n      <td>NaN</td>\n      <td>NaN</td>\n      <td>4.0</td>\n      <td>7-8 hours</td>\n      <td>Moderate</td>\n      <td>MA</td>\n      <td>No</td>\n      <td>6</td>\n      <td>2</td>\n      <td>No</td>\n      <td>No</td>\n    </tr>\n    <tr>\n      <th>1</th>\n      <td>Reyansh</td>\n      <td>Male</td>\n      <td>60</td>\n      <td>Kalyan</td>\n      <td>Working Professional</td>\n      <td>Financial Analyst</td>\n      <td>NaN</td>\n      <td>4.0</td>\n      <td>NaN</td>\n      <td>NaN</td>\n      <td>3.0</td>\n      <td>5-6 hours</td>\n      <td>Unhealthy</td>\n      <td>B.Com</td>\n      <td>Yes</td>\n      <td>0</td>\n      <td>4</td>\n      <td>Yes</td>\n      <td>No</td>\n    </tr>\n    <tr>\n      <th>2</th>\n      <td>Manvi</td>\n      <td>Female</td>\n      <td>42</td>\n      <td>Bhopal</td>\n      <td>Working Professional</td>\n      <td>Teacher</td>\n      <td>NaN</td>\n      <td>2.0</td>\n      <td>NaN</td>\n      <td>NaN</td>\n      <td>3.0</td>\n      <td>5-6 hours</td>\n      <td>Moderate</td>\n      <td>M.Com</td>\n      <td>No</td>\n      <td>0</td>\n      <td>2</td>\n      <td>No</td>\n      <td>No</td>\n    </tr>\n  </tbody>\n</table>\n</div>"
          },
          "metadata": {}
        }
      ]
    },
    {
      "cell_type": "code",
      "source": [
        "train = train.drop('id', axis=1)\n",
        "test = test.drop('id', axis=1)"
      ],
      "metadata": {
        "execution": {
          "iopub.status.busy": "2024-11-04T11:32:46.644207Z",
          "iopub.execute_input": "2024-11-04T11:32:46.644683Z",
          "iopub.status.idle": "2024-11-04T11:32:46.678874Z",
          "shell.execute_reply.started": "2024-11-04T11:32:46.644639Z",
          "shell.execute_reply": "2024-11-04T11:32:46.67761Z"
        },
        "trusted": true,
        "id": "-uGnfAZfEnsw"
      },
      "execution_count": null,
      "outputs": []
    },
    {
      "cell_type": "code",
      "source": [
        "train.head(3)"
      ],
      "metadata": {
        "execution": {
          "iopub.status.busy": "2024-11-04T11:32:48.503934Z",
          "iopub.execute_input": "2024-11-04T11:32:48.505161Z",
          "iopub.status.idle": "2024-11-04T11:32:48.531662Z",
          "shell.execute_reply.started": "2024-11-04T11:32:48.505105Z",
          "shell.execute_reply": "2024-11-04T11:32:48.530348Z"
        },
        "trusted": true,
        "id": "vMs5wV26Ensx",
        "outputId": "207c29d1-b258-4271-86b2-cb10f4c31299"
      },
      "execution_count": null,
      "outputs": [
        {
          "execution_count": 291,
          "output_type": "execute_result",
          "data": {
            "text/plain": "       name  gender   age           city working_professional_or_student  \\\n0  Aaradhya  Female  49.0       Ludhiana            Working Professional   \n1     Vivan    Male  26.0       Varanasi            Working Professional   \n2    Yuvraj    Male  33.0  Visakhapatnam                         Student   \n\n  profession  academic_pressure  work_pressure  cgpa  study_satisfaction  \\\n0       Chef                NaN            5.0   NaN                 NaN   \n1    Teacher                NaN            4.0   NaN                 NaN   \n2        NaN                5.0            NaN  8.97                 2.0   \n\n   job_satisfaction     sleep_duration dietary_habits   degree  \\\n0               2.0  More than 8 hours        Healthy      BHM   \n1               3.0  Less than 5 hours      Unhealthy      LLB   \n2               NaN          5-6 hours        Healthy  B.Pharm   \n\n  have_you_ever_had_suicidal_thoughts_?  work/study_hours  financial_stress  \\\n0                                    No               1.0               2.0   \n1                                   Yes               7.0               3.0   \n2                                   Yes               3.0               1.0   \n\n  family_history_of_mental_illness  depression  \n0                               No           0  \n1                               No           1  \n2                               No           1  ",
            "text/html": "<div>\n<style scoped>\n    .dataframe tbody tr th:only-of-type {\n        vertical-align: middle;\n    }\n\n    .dataframe tbody tr th {\n        vertical-align: top;\n    }\n\n    .dataframe thead th {\n        text-align: right;\n    }\n</style>\n<table border=\"1\" class=\"dataframe\">\n  <thead>\n    <tr style=\"text-align: right;\">\n      <th></th>\n      <th>name</th>\n      <th>gender</th>\n      <th>age</th>\n      <th>city</th>\n      <th>working_professional_or_student</th>\n      <th>profession</th>\n      <th>academic_pressure</th>\n      <th>work_pressure</th>\n      <th>cgpa</th>\n      <th>study_satisfaction</th>\n      <th>job_satisfaction</th>\n      <th>sleep_duration</th>\n      <th>dietary_habits</th>\n      <th>degree</th>\n      <th>have_you_ever_had_suicidal_thoughts_?</th>\n      <th>work/study_hours</th>\n      <th>financial_stress</th>\n      <th>family_history_of_mental_illness</th>\n      <th>depression</th>\n    </tr>\n  </thead>\n  <tbody>\n    <tr>\n      <th>0</th>\n      <td>Aaradhya</td>\n      <td>Female</td>\n      <td>49.0</td>\n      <td>Ludhiana</td>\n      <td>Working Professional</td>\n      <td>Chef</td>\n      <td>NaN</td>\n      <td>5.0</td>\n      <td>NaN</td>\n      <td>NaN</td>\n      <td>2.0</td>\n      <td>More than 8 hours</td>\n      <td>Healthy</td>\n      <td>BHM</td>\n      <td>No</td>\n      <td>1.0</td>\n      <td>2.0</td>\n      <td>No</td>\n      <td>0</td>\n    </tr>\n    <tr>\n      <th>1</th>\n      <td>Vivan</td>\n      <td>Male</td>\n      <td>26.0</td>\n      <td>Varanasi</td>\n      <td>Working Professional</td>\n      <td>Teacher</td>\n      <td>NaN</td>\n      <td>4.0</td>\n      <td>NaN</td>\n      <td>NaN</td>\n      <td>3.0</td>\n      <td>Less than 5 hours</td>\n      <td>Unhealthy</td>\n      <td>LLB</td>\n      <td>Yes</td>\n      <td>7.0</td>\n      <td>3.0</td>\n      <td>No</td>\n      <td>1</td>\n    </tr>\n    <tr>\n      <th>2</th>\n      <td>Yuvraj</td>\n      <td>Male</td>\n      <td>33.0</td>\n      <td>Visakhapatnam</td>\n      <td>Student</td>\n      <td>NaN</td>\n      <td>5.0</td>\n      <td>NaN</td>\n      <td>8.97</td>\n      <td>2.0</td>\n      <td>NaN</td>\n      <td>5-6 hours</td>\n      <td>Healthy</td>\n      <td>B.Pharm</td>\n      <td>Yes</td>\n      <td>3.0</td>\n      <td>1.0</td>\n      <td>No</td>\n      <td>1</td>\n    </tr>\n  </tbody>\n</table>\n</div>"
          },
          "metadata": {}
        }
      ]
    },
    {
      "cell_type": "code",
      "source": [
        "original['depression'] = (original['depression'] == 'Yes').astype('int')"
      ],
      "metadata": {
        "execution": {
          "iopub.status.busy": "2024-11-04T11:32:50.645253Z",
          "iopub.execute_input": "2024-11-04T11:32:50.646179Z",
          "iopub.status.idle": "2024-11-04T11:32:50.654557Z",
          "shell.execute_reply.started": "2024-11-04T11:32:50.646121Z",
          "shell.execute_reply": "2024-11-04T11:32:50.653032Z"
        },
        "trusted": true,
        "id": "c27mEd_aEnsx"
      },
      "execution_count": null,
      "outputs": []
    },
    {
      "cell_type": "code",
      "source": [
        "original['depression'].value_counts()"
      ],
      "metadata": {
        "execution": {
          "iopub.status.busy": "2024-11-04T11:32:52.429468Z",
          "iopub.execute_input": "2024-11-04T11:32:52.430059Z",
          "iopub.status.idle": "2024-11-04T11:32:52.446455Z",
          "shell.execute_reply.started": "2024-11-04T11:32:52.430009Z",
          "shell.execute_reply": "2024-11-04T11:32:52.444737Z"
        },
        "trusted": true,
        "id": "rBtLmEEjEnsx",
        "outputId": "b141cea1-3ce6-465e-c86c-69c78483166b"
      },
      "execution_count": null,
      "outputs": [
        {
          "execution_count": 293,
          "output_type": "execute_result",
          "data": {
            "text/plain": "depression\n0    2101\n1     455\nName: count, dtype: int64"
          },
          "metadata": {}
        }
      ]
    },
    {
      "cell_type": "code",
      "source": [
        "train_origin = pd.concat([train, original], axis=0, ignore_index=True)"
      ],
      "metadata": {
        "execution": {
          "iopub.status.busy": "2024-11-04T11:32:54.076697Z",
          "iopub.execute_input": "2024-11-04T11:32:54.077172Z",
          "iopub.status.idle": "2024-11-04T11:32:54.095894Z",
          "shell.execute_reply.started": "2024-11-04T11:32:54.077126Z",
          "shell.execute_reply": "2024-11-04T11:32:54.09453Z"
        },
        "trusted": true,
        "id": "tHzh8-DXEnsx"
      },
      "execution_count": null,
      "outputs": []
    },
    {
      "cell_type": "code",
      "source": [
        "train_origin.shape"
      ],
      "metadata": {
        "execution": {
          "iopub.status.busy": "2024-11-04T11:32:55.93205Z",
          "iopub.execute_input": "2024-11-04T11:32:55.932495Z",
          "iopub.status.idle": "2024-11-04T11:32:55.94438Z",
          "shell.execute_reply.started": "2024-11-04T11:32:55.932454Z",
          "shell.execute_reply": "2024-11-04T11:32:55.943159Z"
        },
        "trusted": true,
        "id": "Wc_k1plVEnsx",
        "outputId": "9ff67bb3-c51c-4ce2-e823-bb292ad1f19c"
      },
      "execution_count": null,
      "outputs": [
        {
          "execution_count": 295,
          "output_type": "execute_result",
          "data": {
            "text/plain": "(143256, 19)"
          },
          "metadata": {}
        }
      ]
    },
    {
      "cell_type": "code",
      "source": [
        "train_origin.isna().sum().sort_values(ascending=False)"
      ],
      "metadata": {
        "execution": {
          "iopub.status.busy": "2024-11-04T11:32:57.460472Z",
          "iopub.execute_input": "2024-11-04T11:32:57.461642Z",
          "iopub.status.idle": "2024-11-04T11:32:57.639299Z",
          "shell.execute_reply.started": "2024-11-04T11:32:57.46157Z",
          "shell.execute_reply": "2024-11-04T11:32:57.637902Z"
        },
        "trusted": true,
        "id": "g9gNuRqLEnsy",
        "outputId": "65e87931-d974-4416-89f0-276d6e8bfe51"
      },
      "execution_count": null,
      "outputs": [
        {
          "execution_count": 296,
          "output_type": "execute_result",
          "data": {
            "text/plain": "study_satisfaction                       114857\nacademic_pressure                        114857\ncgpa                                     114856\nprofession                                37303\nwork_pressure                             28420\njob_satisfaction                          28412\ndietary_habits                                4\nfinancial_stress                              4\ndegree                                        2\nfamily_history_of_mental_illness              0\nwork/study_hours                              0\nhave_you_ever_had_suicidal_thoughts_?         0\nname                                          0\nsleep_duration                                0\ngender                                        0\nworking_professional_or_student               0\ncity                                          0\nage                                           0\ndepression                                    0\ndtype: int64"
          },
          "metadata": {}
        }
      ]
    },
    {
      "cell_type": "code",
      "source": [
        "(train_origin.isna().sum() / train_origin.shape[0]).sort_values(ascending=False)"
      ],
      "metadata": {
        "execution": {
          "iopub.status.busy": "2024-11-04T11:32:59.69485Z",
          "iopub.execute_input": "2024-11-04T11:32:59.696058Z",
          "iopub.status.idle": "2024-11-04T11:32:59.866827Z",
          "shell.execute_reply.started": "2024-11-04T11:32:59.696003Z",
          "shell.execute_reply": "2024-11-04T11:32:59.865566Z"
        },
        "trusted": true,
        "id": "dTVAuWQGEnsy",
        "outputId": "179d8c0e-b5bf-4d10-c846-28f244559b91"
      },
      "execution_count": null,
      "outputs": [
        {
          "execution_count": 297,
          "output_type": "execute_result",
          "data": {
            "text/plain": "study_satisfaction                       0.801760\nacademic_pressure                        0.801760\ncgpa                                     0.801754\nprofession                               0.260394\nwork_pressure                            0.198386\njob_satisfaction                         0.198330\ndietary_habits                           0.000028\nfinancial_stress                         0.000028\ndegree                                   0.000014\nfamily_history_of_mental_illness         0.000000\nwork/study_hours                         0.000000\nhave_you_ever_had_suicidal_thoughts_?    0.000000\nname                                     0.000000\nsleep_duration                           0.000000\ngender                                   0.000000\nworking_professional_or_student          0.000000\ncity                                     0.000000\nage                                      0.000000\ndepression                               0.000000\ndtype: float64"
          },
          "metadata": {}
        }
      ]
    },
    {
      "cell_type": "code",
      "source": [
        "train_origin = train_origin.drop('study_satisfaction', axis=1)\n",
        "train_origin = train_origin.drop('academic_pressure', axis=1)\n",
        "train_origin = train_origin.drop('cgpa', axis=1)"
      ],
      "metadata": {
        "execution": {
          "iopub.status.busy": "2024-11-04T11:33:02.91202Z",
          "iopub.execute_input": "2024-11-04T11:33:02.913557Z",
          "iopub.status.idle": "2024-11-04T11:33:03.005994Z",
          "shell.execute_reply.started": "2024-11-04T11:33:02.91348Z",
          "shell.execute_reply": "2024-11-04T11:33:03.004163Z"
        },
        "trusted": true,
        "id": "0Mk5ThieEnsy"
      },
      "execution_count": null,
      "outputs": []
    },
    {
      "cell_type": "code",
      "source": [
        "miss_values = train_origin.isna().sum()\n",
        "dict_miss_values = dict(zip(miss_values.index, miss_values))\n",
        "dict_miss = {k:v for k, v in dict_miss_values.items() if v > 0}\n",
        "dict_miss"
      ],
      "metadata": {
        "execution": {
          "iopub.status.busy": "2024-11-04T11:33:04.852252Z",
          "iopub.execute_input": "2024-11-04T11:33:04.852824Z",
          "iopub.status.idle": "2024-11-04T11:33:05.025299Z",
          "shell.execute_reply.started": "2024-11-04T11:33:04.852748Z",
          "shell.execute_reply": "2024-11-04T11:33:05.023843Z"
        },
        "trusted": true,
        "id": "GBVD4I-ZEnsy",
        "outputId": "f6522cc4-7682-4263-b5cb-b87a85573b0d"
      },
      "execution_count": null,
      "outputs": [
        {
          "execution_count": 299,
          "output_type": "execute_result",
          "data": {
            "text/plain": "{'profession': 37303,\n 'work_pressure': 28420,\n 'job_satisfaction': 28412,\n 'dietary_habits': 4,\n 'degree': 2,\n 'financial_stress': 4}"
          },
          "metadata": {}
        }
      ]
    },
    {
      "cell_type": "code",
      "source": [
        "train_origin.head(3)"
      ],
      "metadata": {
        "execution": {
          "iopub.status.busy": "2024-11-04T11:33:06.502324Z",
          "iopub.execute_input": "2024-11-04T11:33:06.503321Z",
          "iopub.status.idle": "2024-11-04T11:33:06.530241Z",
          "shell.execute_reply.started": "2024-11-04T11:33:06.503272Z",
          "shell.execute_reply": "2024-11-04T11:33:06.528676Z"
        },
        "trusted": true,
        "id": "eCLEzPIAEnsy",
        "outputId": "5581e254-4f64-42e9-dc1e-05a63194993d"
      },
      "execution_count": null,
      "outputs": [
        {
          "execution_count": 300,
          "output_type": "execute_result",
          "data": {
            "text/plain": "       name  gender   age           city working_professional_or_student  \\\n0  Aaradhya  Female  49.0       Ludhiana            Working Professional   \n1     Vivan    Male  26.0       Varanasi            Working Professional   \n2    Yuvraj    Male  33.0  Visakhapatnam                         Student   \n\n  profession  work_pressure  job_satisfaction     sleep_duration  \\\n0       Chef            5.0               2.0  More than 8 hours   \n1    Teacher            4.0               3.0  Less than 5 hours   \n2        NaN            NaN               NaN          5-6 hours   \n\n  dietary_habits   degree have_you_ever_had_suicidal_thoughts_?  \\\n0        Healthy      BHM                                    No   \n1      Unhealthy      LLB                                   Yes   \n2        Healthy  B.Pharm                                   Yes   \n\n   work/study_hours  financial_stress family_history_of_mental_illness  \\\n0               1.0               2.0                               No   \n1               7.0               3.0                               No   \n2               3.0               1.0                               No   \n\n   depression  \n0           0  \n1           1  \n2           1  ",
            "text/html": "<div>\n<style scoped>\n    .dataframe tbody tr th:only-of-type {\n        vertical-align: middle;\n    }\n\n    .dataframe tbody tr th {\n        vertical-align: top;\n    }\n\n    .dataframe thead th {\n        text-align: right;\n    }\n</style>\n<table border=\"1\" class=\"dataframe\">\n  <thead>\n    <tr style=\"text-align: right;\">\n      <th></th>\n      <th>name</th>\n      <th>gender</th>\n      <th>age</th>\n      <th>city</th>\n      <th>working_professional_or_student</th>\n      <th>profession</th>\n      <th>work_pressure</th>\n      <th>job_satisfaction</th>\n      <th>sleep_duration</th>\n      <th>dietary_habits</th>\n      <th>degree</th>\n      <th>have_you_ever_had_suicidal_thoughts_?</th>\n      <th>work/study_hours</th>\n      <th>financial_stress</th>\n      <th>family_history_of_mental_illness</th>\n      <th>depression</th>\n    </tr>\n  </thead>\n  <tbody>\n    <tr>\n      <th>0</th>\n      <td>Aaradhya</td>\n      <td>Female</td>\n      <td>49.0</td>\n      <td>Ludhiana</td>\n      <td>Working Professional</td>\n      <td>Chef</td>\n      <td>5.0</td>\n      <td>2.0</td>\n      <td>More than 8 hours</td>\n      <td>Healthy</td>\n      <td>BHM</td>\n      <td>No</td>\n      <td>1.0</td>\n      <td>2.0</td>\n      <td>No</td>\n      <td>0</td>\n    </tr>\n    <tr>\n      <th>1</th>\n      <td>Vivan</td>\n      <td>Male</td>\n      <td>26.0</td>\n      <td>Varanasi</td>\n      <td>Working Professional</td>\n      <td>Teacher</td>\n      <td>4.0</td>\n      <td>3.0</td>\n      <td>Less than 5 hours</td>\n      <td>Unhealthy</td>\n      <td>LLB</td>\n      <td>Yes</td>\n      <td>7.0</td>\n      <td>3.0</td>\n      <td>No</td>\n      <td>1</td>\n    </tr>\n    <tr>\n      <th>2</th>\n      <td>Yuvraj</td>\n      <td>Male</td>\n      <td>33.0</td>\n      <td>Visakhapatnam</td>\n      <td>Student</td>\n      <td>NaN</td>\n      <td>NaN</td>\n      <td>NaN</td>\n      <td>5-6 hours</td>\n      <td>Healthy</td>\n      <td>B.Pharm</td>\n      <td>Yes</td>\n      <td>3.0</td>\n      <td>1.0</td>\n      <td>No</td>\n      <td>1</td>\n    </tr>\n  </tbody>\n</table>\n</div>"
          },
          "metadata": {}
        }
      ]
    },
    {
      "cell_type": "code",
      "source": [
        "for col in dict_miss:\n",
        "    train_origin.loc[:, col] = train_origin.loc[:, col].fillna(train_origin[col].mode()[0])"
      ],
      "metadata": {
        "execution": {
          "iopub.status.busy": "2024-11-04T11:33:08.339529Z",
          "iopub.execute_input": "2024-11-04T11:33:08.340012Z",
          "iopub.status.idle": "2024-11-04T11:33:08.513548Z",
          "shell.execute_reply.started": "2024-11-04T11:33:08.33997Z",
          "shell.execute_reply": "2024-11-04T11:33:08.512291Z"
        },
        "trusted": true,
        "id": "x1ZX3MKEEnsy"
      },
      "execution_count": null,
      "outputs": []
    },
    {
      "cell_type": "code",
      "source": [
        "train_origin.isna().sum()"
      ],
      "metadata": {
        "execution": {
          "iopub.status.busy": "2024-11-04T11:33:10.217636Z",
          "iopub.execute_input": "2024-11-04T11:33:10.218122Z",
          "iopub.status.idle": "2024-11-04T11:33:10.390311Z",
          "shell.execute_reply.started": "2024-11-04T11:33:10.218076Z",
          "shell.execute_reply": "2024-11-04T11:33:10.388968Z"
        },
        "trusted": true,
        "id": "vSOOAbuqEnsy",
        "outputId": "8b7250c0-c832-4252-be47-68d4283873af"
      },
      "execution_count": null,
      "outputs": [
        {
          "execution_count": 302,
          "output_type": "execute_result",
          "data": {
            "text/plain": "name                                     0\ngender                                   0\nage                                      0\ncity                                     0\nworking_professional_or_student          0\nprofession                               0\nwork_pressure                            0\njob_satisfaction                         0\nsleep_duration                           0\ndietary_habits                           0\ndegree                                   0\nhave_you_ever_had_suicidal_thoughts_?    0\nwork/study_hours                         0\nfinancial_stress                         0\nfamily_history_of_mental_illness         0\ndepression                               0\ndtype: int64"
          },
          "metadata": {}
        }
      ]
    },
    {
      "cell_type": "code",
      "source": [
        "train_origin.head(3)"
      ],
      "metadata": {
        "execution": {
          "iopub.status.busy": "2024-11-04T11:33:15.010385Z",
          "iopub.execute_input": "2024-11-04T11:33:15.011702Z",
          "iopub.status.idle": "2024-11-04T11:33:15.039642Z",
          "shell.execute_reply.started": "2024-11-04T11:33:15.011642Z",
          "shell.execute_reply": "2024-11-04T11:33:15.038243Z"
        },
        "trusted": true,
        "id": "44yho5J2Ensy",
        "outputId": "26b1e629-b42b-4515-a898-8378d7731dc9"
      },
      "execution_count": null,
      "outputs": [
        {
          "execution_count": 304,
          "output_type": "execute_result",
          "data": {
            "text/plain": "       name  gender   age           city working_professional_or_student  \\\n0  Aaradhya  Female  49.0       Ludhiana            Working Professional   \n1     Vivan    Male  26.0       Varanasi            Working Professional   \n2    Yuvraj    Male  33.0  Visakhapatnam                         Student   \n\n  profession  work_pressure  job_satisfaction     sleep_duration  \\\n0       Chef            5.0               2.0  More than 8 hours   \n1    Teacher            4.0               3.0  Less than 5 hours   \n2    Teacher            2.0               2.0          5-6 hours   \n\n  dietary_habits   degree have_you_ever_had_suicidal_thoughts_?  \\\n0        Healthy      BHM                                    No   \n1      Unhealthy      LLB                                   Yes   \n2        Healthy  B.Pharm                                   Yes   \n\n   work/study_hours  financial_stress family_history_of_mental_illness  \\\n0               1.0               2.0                               No   \n1               7.0               3.0                               No   \n2               3.0               1.0                               No   \n\n   depression  \n0           0  \n1           1  \n2           1  ",
            "text/html": "<div>\n<style scoped>\n    .dataframe tbody tr th:only-of-type {\n        vertical-align: middle;\n    }\n\n    .dataframe tbody tr th {\n        vertical-align: top;\n    }\n\n    .dataframe thead th {\n        text-align: right;\n    }\n</style>\n<table border=\"1\" class=\"dataframe\">\n  <thead>\n    <tr style=\"text-align: right;\">\n      <th></th>\n      <th>name</th>\n      <th>gender</th>\n      <th>age</th>\n      <th>city</th>\n      <th>working_professional_or_student</th>\n      <th>profession</th>\n      <th>work_pressure</th>\n      <th>job_satisfaction</th>\n      <th>sleep_duration</th>\n      <th>dietary_habits</th>\n      <th>degree</th>\n      <th>have_you_ever_had_suicidal_thoughts_?</th>\n      <th>work/study_hours</th>\n      <th>financial_stress</th>\n      <th>family_history_of_mental_illness</th>\n      <th>depression</th>\n    </tr>\n  </thead>\n  <tbody>\n    <tr>\n      <th>0</th>\n      <td>Aaradhya</td>\n      <td>Female</td>\n      <td>49.0</td>\n      <td>Ludhiana</td>\n      <td>Working Professional</td>\n      <td>Chef</td>\n      <td>5.0</td>\n      <td>2.0</td>\n      <td>More than 8 hours</td>\n      <td>Healthy</td>\n      <td>BHM</td>\n      <td>No</td>\n      <td>1.0</td>\n      <td>2.0</td>\n      <td>No</td>\n      <td>0</td>\n    </tr>\n    <tr>\n      <th>1</th>\n      <td>Vivan</td>\n      <td>Male</td>\n      <td>26.0</td>\n      <td>Varanasi</td>\n      <td>Working Professional</td>\n      <td>Teacher</td>\n      <td>4.0</td>\n      <td>3.0</td>\n      <td>Less than 5 hours</td>\n      <td>Unhealthy</td>\n      <td>LLB</td>\n      <td>Yes</td>\n      <td>7.0</td>\n      <td>3.0</td>\n      <td>No</td>\n      <td>1</td>\n    </tr>\n    <tr>\n      <th>2</th>\n      <td>Yuvraj</td>\n      <td>Male</td>\n      <td>33.0</td>\n      <td>Visakhapatnam</td>\n      <td>Student</td>\n      <td>Teacher</td>\n      <td>2.0</td>\n      <td>2.0</td>\n      <td>5-6 hours</td>\n      <td>Healthy</td>\n      <td>B.Pharm</td>\n      <td>Yes</td>\n      <td>3.0</td>\n      <td>1.0</td>\n      <td>No</td>\n      <td>1</td>\n    </tr>\n  </tbody>\n</table>\n</div>"
          },
          "metadata": {}
        }
      ]
    },
    {
      "cell_type": "code",
      "source": [
        "train_origin.describe()"
      ],
      "metadata": {
        "execution": {
          "iopub.status.busy": "2024-11-04T11:33:17.179069Z",
          "iopub.execute_input": "2024-11-04T11:33:17.180218Z",
          "iopub.status.idle": "2024-11-04T11:33:17.258299Z",
          "shell.execute_reply.started": "2024-11-04T11:33:17.180155Z",
          "shell.execute_reply": "2024-11-04T11:33:17.25691Z"
        },
        "trusted": true,
        "id": "MS6PBTz6Ensy",
        "outputId": "0d4c5dac-413b-4dfd-8dc5-323c3b00abde"
      },
      "execution_count": null,
      "outputs": [
        {
          "execution_count": 305,
          "output_type": "execute_result",
          "data": {
            "text/plain": "                 age  work_pressure  job_satisfaction  work/study_hours  \\\ncount  143256.000000  143256.000000     143256.000000     143256.000000   \nmean       40.364613       2.801139          2.781733          6.248597   \nstd        12.383146       1.320395          1.326220          3.852275   \nmin        18.000000       1.000000          1.000000          0.000000   \n25%        29.000000       2.000000          2.000000          3.000000   \n50%        42.000000       2.000000          2.000000          6.000000   \n75%        51.000000       4.000000          4.000000         10.000000   \nmax        60.000000       5.000000          5.000000         12.000000   \n\n       financial_stress     depression  \ncount     143256.000000  143256.000000  \nmean           2.988594       0.181647  \nstd            1.413654       0.385555  \nmin            1.000000       0.000000  \n25%            2.000000       0.000000  \n50%            3.000000       0.000000  \n75%            4.000000       0.000000  \nmax            5.000000       1.000000  ",
            "text/html": "<div>\n<style scoped>\n    .dataframe tbody tr th:only-of-type {\n        vertical-align: middle;\n    }\n\n    .dataframe tbody tr th {\n        vertical-align: top;\n    }\n\n    .dataframe thead th {\n        text-align: right;\n    }\n</style>\n<table border=\"1\" class=\"dataframe\">\n  <thead>\n    <tr style=\"text-align: right;\">\n      <th></th>\n      <th>age</th>\n      <th>work_pressure</th>\n      <th>job_satisfaction</th>\n      <th>work/study_hours</th>\n      <th>financial_stress</th>\n      <th>depression</th>\n    </tr>\n  </thead>\n  <tbody>\n    <tr>\n      <th>count</th>\n      <td>143256.000000</td>\n      <td>143256.000000</td>\n      <td>143256.000000</td>\n      <td>143256.000000</td>\n      <td>143256.000000</td>\n      <td>143256.000000</td>\n    </tr>\n    <tr>\n      <th>mean</th>\n      <td>40.364613</td>\n      <td>2.801139</td>\n      <td>2.781733</td>\n      <td>6.248597</td>\n      <td>2.988594</td>\n      <td>0.181647</td>\n    </tr>\n    <tr>\n      <th>std</th>\n      <td>12.383146</td>\n      <td>1.320395</td>\n      <td>1.326220</td>\n      <td>3.852275</td>\n      <td>1.413654</td>\n      <td>0.385555</td>\n    </tr>\n    <tr>\n      <th>min</th>\n      <td>18.000000</td>\n      <td>1.000000</td>\n      <td>1.000000</td>\n      <td>0.000000</td>\n      <td>1.000000</td>\n      <td>0.000000</td>\n    </tr>\n    <tr>\n      <th>25%</th>\n      <td>29.000000</td>\n      <td>2.000000</td>\n      <td>2.000000</td>\n      <td>3.000000</td>\n      <td>2.000000</td>\n      <td>0.000000</td>\n    </tr>\n    <tr>\n      <th>50%</th>\n      <td>42.000000</td>\n      <td>2.000000</td>\n      <td>2.000000</td>\n      <td>6.000000</td>\n      <td>3.000000</td>\n      <td>0.000000</td>\n    </tr>\n    <tr>\n      <th>75%</th>\n      <td>51.000000</td>\n      <td>4.000000</td>\n      <td>4.000000</td>\n      <td>10.000000</td>\n      <td>4.000000</td>\n      <td>0.000000</td>\n    </tr>\n    <tr>\n      <th>max</th>\n      <td>60.000000</td>\n      <td>5.000000</td>\n      <td>5.000000</td>\n      <td>12.000000</td>\n      <td>5.000000</td>\n      <td>1.000000</td>\n    </tr>\n  </tbody>\n</table>\n</div>"
          },
          "metadata": {}
        }
      ]
    },
    {
      "cell_type": "code",
      "source": [
        "train_origin.describe(include=['O'])"
      ],
      "metadata": {
        "execution": {
          "iopub.status.busy": "2024-11-04T11:33:19.796392Z",
          "iopub.execute_input": "2024-11-04T11:33:19.797548Z",
          "iopub.status.idle": "2024-11-04T11:33:20.324149Z",
          "shell.execute_reply.started": "2024-11-04T11:33:19.797491Z",
          "shell.execute_reply": "2024-11-04T11:33:20.322469Z"
        },
        "trusted": true,
        "id": "I1FWKrYNEnsy",
        "outputId": "a9fc90e2-4b11-4183-a61f-f248dda3cb78"
      },
      "execution_count": null,
      "outputs": [
        {
          "execution_count": 306,
          "output_type": "execute_result",
          "data": {
            "text/plain": "          name  gender    city working_professional_or_student profession  \\\ncount   143256  143256  143256                          143256     143256   \nunique     422       2      98                               2         64   \ntop      Rohan    Male  Kalyan            Working Professional    Teacher   \nfreq      3204   78797    6683                          114853      62531   \n\n           sleep_duration dietary_habits    degree  \\\ncount              143256         143256    143256   \nunique                 36             23       115   \ntop     Less than 5 hours       Moderate  Class 12   \nfreq                39432          50541     15006   \n\n       have_you_ever_had_suicidal_thoughts_? family_history_of_mental_illness  \ncount                                 143256                           143256  \nunique                                     2                                2  \ntop                                       No                               No  \nfreq                                   72445                            72069  ",
            "text/html": "<div>\n<style scoped>\n    .dataframe tbody tr th:only-of-type {\n        vertical-align: middle;\n    }\n\n    .dataframe tbody tr th {\n        vertical-align: top;\n    }\n\n    .dataframe thead th {\n        text-align: right;\n    }\n</style>\n<table border=\"1\" class=\"dataframe\">\n  <thead>\n    <tr style=\"text-align: right;\">\n      <th></th>\n      <th>name</th>\n      <th>gender</th>\n      <th>city</th>\n      <th>working_professional_or_student</th>\n      <th>profession</th>\n      <th>sleep_duration</th>\n      <th>dietary_habits</th>\n      <th>degree</th>\n      <th>have_you_ever_had_suicidal_thoughts_?</th>\n      <th>family_history_of_mental_illness</th>\n    </tr>\n  </thead>\n  <tbody>\n    <tr>\n      <th>count</th>\n      <td>143256</td>\n      <td>143256</td>\n      <td>143256</td>\n      <td>143256</td>\n      <td>143256</td>\n      <td>143256</td>\n      <td>143256</td>\n      <td>143256</td>\n      <td>143256</td>\n      <td>143256</td>\n    </tr>\n    <tr>\n      <th>unique</th>\n      <td>422</td>\n      <td>2</td>\n      <td>98</td>\n      <td>2</td>\n      <td>64</td>\n      <td>36</td>\n      <td>23</td>\n      <td>115</td>\n      <td>2</td>\n      <td>2</td>\n    </tr>\n    <tr>\n      <th>top</th>\n      <td>Rohan</td>\n      <td>Male</td>\n      <td>Kalyan</td>\n      <td>Working Professional</td>\n      <td>Teacher</td>\n      <td>Less than 5 hours</td>\n      <td>Moderate</td>\n      <td>Class 12</td>\n      <td>No</td>\n      <td>No</td>\n    </tr>\n    <tr>\n      <th>freq</th>\n      <td>3204</td>\n      <td>78797</td>\n      <td>6683</td>\n      <td>114853</td>\n      <td>62531</td>\n      <td>39432</td>\n      <td>50541</td>\n      <td>15006</td>\n      <td>72445</td>\n      <td>72069</td>\n    </tr>\n  </tbody>\n</table>\n</div>"
          },
          "metadata": {}
        }
      ]
    },
    {
      "cell_type": "code",
      "source": [
        "train_origin.duplicated().sum()"
      ],
      "metadata": {
        "execution": {
          "iopub.status.busy": "2024-11-04T11:33:22.397721Z",
          "iopub.execute_input": "2024-11-04T11:33:22.398274Z",
          "iopub.status.idle": "2024-11-04T11:33:22.584351Z",
          "shell.execute_reply.started": "2024-11-04T11:33:22.398222Z",
          "shell.execute_reply": "2024-11-04T11:33:22.583101Z"
        },
        "trusted": true,
        "id": "HnqICzqqEnsy",
        "outputId": "68b05357-45a9-44db-dfdc-0d36e650227d"
      },
      "execution_count": null,
      "outputs": [
        {
          "execution_count": 307,
          "output_type": "execute_result",
          "data": {
            "text/plain": "17"
          },
          "metadata": {}
        }
      ]
    },
    {
      "cell_type": "code",
      "source": [
        "train_origin.drop_duplicates(inplace=True)"
      ],
      "metadata": {
        "execution": {
          "iopub.status.busy": "2024-11-04T11:33:24.224867Z",
          "iopub.execute_input": "2024-11-04T11:33:24.226215Z",
          "iopub.status.idle": "2024-11-04T11:33:24.434366Z",
          "shell.execute_reply.started": "2024-11-04T11:33:24.226162Z",
          "shell.execute_reply": "2024-11-04T11:33:24.432878Z"
        },
        "trusted": true,
        "id": "tO6UOatEEnsz"
      },
      "execution_count": null,
      "outputs": []
    },
    {
      "cell_type": "code",
      "source": [
        "numerical_features = train_origin.select_dtypes(include=['number'])\n",
        "\n",
        "plt.figure(figsize=(15, 10))\n",
        "\n",
        "for i, feature in enumerate(numerical_features.iloc[:, :-1], 1):\n",
        "    plt.subplot(3, 3, i)\n",
        "    sns.histplot(train_origin[feature], kde=True)\n",
        "    plt.xlabel(feature)\n",
        "    plt.ylabel('Frequency')\n",
        "\n",
        "plt.tight_layout()\n",
        "plt.show()"
      ],
      "metadata": {
        "execution": {
          "iopub.status.busy": "2024-11-04T10:52:17.893791Z",
          "iopub.execute_input": "2024-11-04T10:52:17.894277Z",
          "iopub.status.idle": "2024-11-04T10:52:22.895901Z",
          "shell.execute_reply.started": "2024-11-04T10:52:17.894223Z",
          "shell.execute_reply": "2024-11-04T10:52:22.894573Z"
        },
        "trusted": true,
        "id": "HQ_P8MbrEnsz",
        "outputId": "af2001cf-904a-49f9-c6b4-acb896c1e7b2"
      },
      "execution_count": null,
      "outputs": [
        {
          "name": "stderr",
          "text": "/opt/conda/lib/python3.10/site-packages/seaborn/_oldcore.py:1119: FutureWarning: use_inf_as_na option is deprecated and will be removed in a future version. Convert inf values to NaN before operating instead.\n  with pd.option_context('mode.use_inf_as_na', True):\n/opt/conda/lib/python3.10/site-packages/seaborn/_oldcore.py:1119: FutureWarning: use_inf_as_na option is deprecated and will be removed in a future version. Convert inf values to NaN before operating instead.\n  with pd.option_context('mode.use_inf_as_na', True):\n/opt/conda/lib/python3.10/site-packages/seaborn/_oldcore.py:1119: FutureWarning: use_inf_as_na option is deprecated and will be removed in a future version. Convert inf values to NaN before operating instead.\n  with pd.option_context('mode.use_inf_as_na', True):\n/opt/conda/lib/python3.10/site-packages/seaborn/_oldcore.py:1119: FutureWarning: use_inf_as_na option is deprecated and will be removed in a future version. Convert inf values to NaN before operating instead.\n  with pd.option_context('mode.use_inf_as_na', True):\n/opt/conda/lib/python3.10/site-packages/seaborn/_oldcore.py:1119: FutureWarning: use_inf_as_na option is deprecated and will be removed in a future version. Convert inf values to NaN before operating instead.\n  with pd.option_context('mode.use_inf_as_na', True):\n",
          "output_type": "stream"
        },
        {
          "output_type": "display_data",
          "data": {
            "text/plain": "<Figure size 1500x1000 with 5 Axes>",
            "image/png": "[encoded data removed]"
          },
          "metadata": {}
        }
      ]
    },
    {
      "cell_type": "code",
      "source": [
        "plt.figure(figsize=(7, 7))\n",
        "corr_data = numerical_features.corr().abs()\n",
        "sns.heatmap(corr_data, annot=True, cmap='coolwarm')"
      ],
      "metadata": {
        "execution": {
          "iopub.status.busy": "2024-11-04T10:52:36.913251Z",
          "iopub.execute_input": "2024-11-04T10:52:36.91469Z",
          "iopub.status.idle": "2024-11-04T10:52:37.481515Z",
          "shell.execute_reply.started": "2024-11-04T10:52:36.914618Z",
          "shell.execute_reply": "2024-11-04T10:52:37.480309Z"
        },
        "trusted": true,
        "id": "2EHxqiXdEnsz",
        "outputId": "41919d9d-1233-4005-8e58-1faf49ea1e7c"
      },
      "execution_count": null,
      "outputs": [
        {
          "execution_count": 146,
          "output_type": "execute_result",
          "data": {
            "text/plain": "<Axes: >"
          },
          "metadata": {}
        },
        {
          "output_type": "display_data",
          "data": {
            "text/plain": "<Figure size 700x700 with 2 Axes>",
            "image/png": "[encoded data removed]"
          },
          "metadata": {}
        }
      ]
    },
    {
      "cell_type": "code",
      "source": [
        "categorical_features = train_origin.select_dtypes(include=['object', 'category'])\n",
        "categorical_features\n",
        "res = {}\n",
        "for col in categorical_features.columns:\n",
        "    res[f'Column_{col}'] = train_origin[col].unique()\n",
        "res"
      ],
      "metadata": {
        "execution": {
          "iopub.status.busy": "2024-11-04T11:33:39.048152Z",
          "iopub.execute_input": "2024-11-04T11:33:39.048665Z",
          "iopub.status.idle": "2024-11-04T11:33:39.273223Z",
          "shell.execute_reply.started": "2024-11-04T11:33:39.04862Z",
          "shell.execute_reply": "2024-11-04T11:33:39.271566Z"
        },
        "trusted": true,
        "id": "5X9gieYgEnsz",
        "outputId": "df3fdd1d-46e6-4fb1-aaf3-fb88e5341df1"
      },
      "execution_count": null,
      "outputs": [
        {
          "execution_count": 309,
          "output_type": "execute_result",
          "data": {
            "text/plain": "{'Column_name': array(['Aaradhya', 'Vivan', 'Yuvraj', 'Rhea', 'Vani', 'Ritvik', 'Rajveer',\n        'Aishwarya', 'Simran', 'Utkarsh', 'Aahana', 'Tejas', 'Aadhya',\n        'Kiran', 'Aditi', 'Suhani', 'Jiya', 'Bhavesh', 'Armaan', 'Ishaani',\n        'Prachi', 'Pratyush', 'Abhinav', 'Siddhesh', 'Aditya', 'Aarav',\n        'Asha', 'Kashish', 'Prisha', 'Chhavi', 'Tanmay', 'Vihaan', 'Shiv',\n        'Anvi', 'Darsh', 'Samar', 'Raunak', 'Mahi', 'Shaurya', 'Vidya',\n        'Jai', 'Ayush', 'Ansh', 'Anand', 'Yashvi', 'Shrey', 'Ritika',\n        'Mihir', 'Isha', 'Arjun', 'Rohan', 'Pratham', 'Nirvaan', 'Ishaan',\n        'Aarya', 'Riya', 'Aariv', 'Raghavendra', 'Mahika', 'Abhishek',\n        'Harshil', 'Janvi', 'Kartikeya', 'Shivam', 'Advait', 'Reyansh',\n        'Saanvi', 'Ivaan', 'Pallavi', 'Sneha', 'Ayaan', 'Aakash', 'Raghav',\n        'Satyam', 'Aarush', 'Vibha', 'Rupal', 'Sanya', 'Mira', 'Rashi',\n        'Shlok', 'Harsha', 'Divya', 'Pranav', 'Hrithik', 'Tushar',\n        'Garima', 'Zoya', 'Kian', 'Navya', 'Lakshay', 'Kriti', 'Palak',\n        'Aryan', 'Parth', 'Ishan', 'Rupak', 'Atharv', 'Aarti', 'Anirudh',\n        'Kabir', 'Sanjeev', 'Sanket', 'Tara', 'Gagan', 'Anjali', 'Gaurav',\n        'Vikram', 'Yogesh', 'Ila', 'Rishi', 'Ayansh', 'Kolkata', 'Kavya',\n        'Aanchal', 'Vedant', 'Samaira', 'Harsh', 'Nikita', 'Charvi',\n        'Ishita', 'Ishwar', 'Kanika', 'Ritik', 'Rahil', 'Ira', 'Pari',\n        'Tanya', 'Yamini', 'Vidhi', 'Shreya', 'Neha', 'Esha', 'Damini',\n        'Manvi', 'Shivansh', 'Nikhil', 'Arya', 'Deepak', 'Shruti',\n        'Vrinda', 'Anushka', 'Sara', 'Zara', 'Gauri', 'Soham', 'Nandini',\n        'Siddharth', 'Rudransh', 'Manan', 'Dhruv', 'Tina', 'Pihu',\n        'Lavanya', 'Anika', 'Sai', 'Tanisha', 'Amit', 'Arav', 'Chirag',\n        'Krishna', 'Pooja', 'Eshita', 'Leela', 'Siddhi', 'Vanya', 'Trisha',\n        'Vivaan', 'Diya', 'Veda', 'Keshav', 'Kunal', 'Arnav', 'Barkha',\n        'Nalini', 'Golkut', 'Jasmine', 'Mithila', 'Rupa', 'Nisha',\n        'Saurav', 'Radhika', 'Jhanvi', 'Monika', 'Varun', 'Aan', 'Dev',\n        'Rajat', 'Naina', 'Nishant', 'Yash', 'Vaishnavi', 'Himani',\n        'Meera', 'Om', 'Anaya', 'Aniket', 'Tanvi', 'Mayank', 'Ishaesh',\n        'Srishti', 'Lata', 'Mukund', 'Ranveer', 'Khushi', 'Aarohi',\n        'Bhavna', 'Neil', 'Shivak', 'Apoorva', 'Kartik', 'Avni', 'Vaanya',\n        'Kush', 'Karishma', 'Shanaya', 'Virat', 'Rudra', 'A.Ed', 'Kiara',\n        'Krav', 'Ayhan', 'Nakul', 'Kalyan', 'Parvik', 'Vlaan', 'Harini',\n        'Mahak', 'Shivar', 'Abishma', 'Prvi', 'K. Kavya', 'Aieter',\n        'Aarsh', 'Aarvi', 'Kupa', 'Rudegrav', 'Parvi', 'Siddh', 'Rajankot',\n        'Ani', 'Rupil', 'Aarash', 'Taurav', 'Rani', 'Aanya', 'BE', 'Aavya',\n        'Raghavvi', 'Anarush', 'Aisha', 'Viv', 'Ronnie', '18', 'Rietal',\n        'R.Com', 'Anohi', 'Vivani', 'Ayash', 'Anil', 'Tarsh', 'Aiya',\n        'Patna', 'Tinmay', 'Rhesh', 'Shivna', 'Nikya', 'Arnar', 'Vakash',\n        'Jush', 'Randik', 'Siddir', 'Adachi', 'Anakash', 'Ayut', 'Pariv',\n        'Jhaan', 'Rai', 'Hreya', 'Shivivaam', 'Prishti', 'M.Com',\n        'Gavrachi', 'Rivaan', 'Haurav', 'Noreen', 'Anish', 'Shivan',\n        'Aniv', 'Aohi', 'Vashi', 'Aariket', 'Aarat', 'Vohi', 'Vavya',\n        'Hra', 'Ishaam', 'Anhil', 'Rieta', 'Zahra', 'Jathesh', 'Jhav',\n        'Anh', 'Vidvi', 'Raghavik', 'Mahir', 'Sansh', 'Shivvi', 'Prishant',\n        'Rupar', 'Eirini', 'Tanak', 'Researcher', 'Shaina', 'Aani',\n        'Plumber', 'Nanya', 'Manik', 'Nanchal', 'Ayoub', 'Aam', 'Airav',\n        'Zegmay', 'Aarsush', 'Vidra', 'Kani', 'Ishma', 'Naly', 'Jaish',\n        'Rajya', 'Chrinda', 'Tani', 'Harshand', 'Ranchal', 'Vita',\n        'Prandini', 'Mahav', 'Nhanini', 'Anupal', 'Manr', 'Eikram',\n        'Arsha', 'Kartika', 'Pradhya', 'Harshir', 'Shivlok', 'Shivwar',\n        'Abarav', 'Ayya', 'Rupai', 'Rudrithik', 'Varanasi', 'K.Pharm',\n        'UX/UI Designer', 'Ariti', 'Manjun', 'Arvik', 'Thane', 'Rupika',\n        'Aaransh', 'Ijra', 'Anar', 'Parha', 'Vidha', 'Prayat', 'Yurav',\n        'Srinagar', 'Aaranya', 'Rupadhya', 'Anishi', 'Aikash', 'Nhanvi',\n        'Jiram', 'Rudrey', 'Shashi', 'Anya', 'Eisha', 'Vhaani', 'Prilak',\n        'Aarani', 'Nya', 'Harshav', 'Ewesh', 'Aanket', 'Tohar', 'Ryouvik',\n        'Niya', 'Anjun', 'Rupat', 'Anahk', 'Shivsh', 'Niki', 'Nishita',\n        'Rohik', 'Prishi', 'Ishaansh', 'Virar', 'Sharth', 'M.Tech', 'Shir',\n        'Kike', 'Shivvaan', 'Aarla', 'Nishi', 'Aarand', 'Adiya', 'Ritak',\n        'Kashi', 'Krey', 'Prarav', 'Kartal', 'Anariv', 'Irit', 'Kanisha',\n        'Anisha', 'Harshaun', 'Rietvik', 'Vasai-Virar', 'Ishlok', 'Vika',\n        'Rika', 'Aarun'], dtype=object),\n 'Column_gender': array(['Female', 'Male'], dtype=object),\n 'Column_city': array(['Ludhiana', 'Varanasi', 'Visakhapatnam', 'Mumbai', 'Kanpur',\n        'Ahmedabad', 'Thane', 'Nashik', 'Bangalore', 'Patna', 'Rajkot',\n        'Jaipur', 'Pune', 'Lucknow', 'Meerut', 'Agra', 'Surat',\n        'Faridabad', 'Hyderabad', 'Srinagar', 'Ghaziabad', 'Kolkata',\n        'Chennai', 'Kalyan', 'Nagpur', 'Vadodara', 'Vasai-Virar', 'Delhi',\n        'Bhopal', 'Indore', 'Ishanabad', 'Vidhi', 'Ayush', 'Gurgaon',\n        'Krishna', 'Aishwarya', 'Keshav', 'Harsha', 'Nalini', 'Aditya',\n        'Malyansh', 'Raghavendra', 'Saanvi', 'M.Tech', 'Bhavna',\n        'Less Delhi', 'Nandini', 'M.Com', 'Plata', 'Atharv', 'Pratyush',\n        'City', '3.0', 'Less than 5 Kalyan', 'MCA', 'Mira', 'Moreadhyay',\n        'Morena', 'Ishkarsh', 'Kashk', 'Mihir', 'Vidya', 'Tolkata', 'Anvi',\n        'Krinda', 'Ayansh', 'Shrey', 'Ivaan', 'Vaanya', 'Gaurav', 'Harsh',\n        'Reyansh', 'Kashish', 'Kibara', 'Vaishnavi', 'Chhavi', 'Parth',\n        'Mahi', 'Tushar', 'MSc', 'No', 'Rashi', 'ME', 'Molkata',\n        'Researcher', 'Kagan', 'Armaan', 'Ithal', 'Nalyan', 'Dhruv',\n        'Galesabad', 'Itheg', 'Aaradhya', 'Pooja', 'Khushi', 'Khaziabad',\n        'Jhanvi', 'Unirar'], dtype=object),\n 'Column_working_professional_or_student': array(['Working Professional', 'Student'], dtype=object),\n 'Column_profession': array(['Chef', 'Teacher', 'Business Analyst', 'Finanancial Analyst',\n        'Chemist', 'Electrician', 'Software Engineer', 'Data Scientist',\n        'Plumber', 'Marketing Manager', 'Accountant', 'Entrepreneur',\n        'HR Manager', 'UX/UI Designer', 'Content Writer',\n        'Educational Consultant', 'Civil Engineer', 'Manager',\n        'Pharmacist', 'Financial Analyst', 'Architect',\n        'Mechanical Engineer', 'Customer Support', 'Consultant', 'Judge',\n        'Researcher', 'Pilot', 'Graphic Designer', 'Travel Consultant',\n        'Digital Marketer', 'Lawyer', 'Research Analyst',\n        'Sales Executive', 'Doctor', 'Unemployed', 'Investment Banker',\n        'Family Consultant', 'B.Com', 'BE', 'Student', 'Yogesh', 'Dev',\n        'MBA', 'LLM', 'BCA', 'Academic', 'Profession', 'FamilyVirar',\n        'City Manager', 'BBA', 'Medical Doctor', 'Working Professional',\n        'MBBS', 'Patna', 'Unveil', 'B.Ed', 'Nagpur', 'Moderate', 'M.Ed',\n        'Analyst', 'Pranav', 'Visakhapatnam', 'PhD', 'Yuvraj'],\n       dtype=object),\n 'Column_sleep_duration': array(['More than 8 hours', 'Less than 5 hours', '5-6 hours', '7-8 hours',\n        'Sleep_Duration', '1-2 hours', '6-8 hours', '4-6 hours',\n        '6-7 hours', '10-11 hours', '8-9 hours', '40-45 hours',\n        '9-11 hours', '2-3 hours', '3-4 hours', 'Moderate', '55-66 hours',\n        '4-5 hours', '9-6 hours', '1-3 hours', 'Indore', '45', '1-6 hours',\n        '35-36 hours', '8 hours', 'No', '10-6 hours', 'than 5 hours',\n        '49 hours', 'Unhealthy', 'Work_Study_Hours', '3-6 hours',\n        '45-48 hours', '9-5', 'Pune', '9-5 hours'], dtype=object),\n 'Column_dietary_habits': array(['Healthy', 'Unhealthy', 'Moderate', 'Yes', 'Pratham', 'BSc',\n        'Gender', '3', 'More Healthy', 'Less than Healthy', 'Mihir', '1.0',\n        'Hormonal', 'Electrician', 'No Healthy', 'Less Healthy', 'M.Tech',\n        'Vegas', 'No', 'Male', 'Indoor', 'Class 12', '2'], dtype=object),\n 'Column_degree': array(['BHM', 'LLB', 'B.Pharm', 'BBA', 'MCA', 'MD', 'BSc', 'ME', 'B.Arch',\n        'BCA', 'BE', 'MA', 'B.Ed', 'B.Com', 'MBA', 'M.Com', 'MHM', 'BA',\n        'Class 12', 'M.Tech', 'PhD', 'M.Ed', 'MSc', 'B.Tech', 'LLM',\n        'MBBS', 'M.Pharm', 'UX/UI Designer', 'MPA', 'BH', 'Nalini', 'BEd',\n        'B.Sc', 'Veda', 'Bhopal', 'S.Tech', 'Degree', '20', 'Class 11',\n        'H_Pharm', 'M', 'P.Com', 'BPharm', 'Business Analyst', 'M.Arch',\n        'LL.Com', 'Data Scientist', 'MPharm', 'L.Ed', 'P.Pharm', 'Kalyan',\n        'Unite', 'BArch', 'HR Manager', 'Badhya', 'S.Pharm', 'LLBA',\n        'Vrinda', 'M. Business Analyst', 'Bhavesh', '0', 'LLCom', '29',\n        'MTech', 'Vivaan', 'BPA', 'Plumber', '5.61', 'Brit', 'B.03',\n        'Ritik', '5.56', 'MEd', 'B', 'B BA', '7.06', 'B.B.Arch', 'ACA',\n        'Brithika', 'CGPA', '24', 'M_Tech', 'Pihu', 'BB', 'Jhanvi',\n        'LLTech', 'Aarav', 'Entrepreneur', '8.56', 'LHM', 'Lata', 'S.Arch',\n        'Marsh', 'HCA', '5.88', 'B.Student', 'LL B.Ed', 'M.S', 'Navya',\n        'Mahika', 'K.Ed', 'B.3.79', 'Mthanya', 'Working Professional',\n        'Esha', 'LLS', 'LLEd', 'E.Tech', 'Doctor', 'N.Pharm', 'LCA',\n        'B B.Com', 'RCA', 'Mihir', 'Advait'], dtype=object),\n 'Column_have_you_ever_had_suicidal_thoughts_?': array(['No', 'Yes'], dtype=object),\n 'Column_family_history_of_mental_illness': array(['No', 'Yes'], dtype=object)}"
          },
          "metadata": {}
        }
      ]
    },
    {
      "cell_type": "code",
      "source": [
        "original['sleep_duration'].value_counts()"
      ],
      "metadata": {
        "execution": {
          "iopub.status.busy": "2024-11-04T11:33:43.710901Z",
          "iopub.execute_input": "2024-11-04T11:33:43.711344Z",
          "iopub.status.idle": "2024-11-04T11:33:43.723077Z",
          "shell.execute_reply.started": "2024-11-04T11:33:43.711303Z",
          "shell.execute_reply": "2024-11-04T11:33:43.721889Z"
        },
        "trusted": true,
        "id": "5xzHDBXbEnsz",
        "outputId": "15b39986-8127-41c6-9a33-dafe7d03621b"
      },
      "execution_count": null,
      "outputs": [
        {
          "execution_count": 310,
          "output_type": "execute_result",
          "data": {
            "text/plain": "sleep_duration\n7-8 hours            658\nLess than 5 hours    648\n5-6 hours            628\nMore than 8 hours    622\nName: count, dtype: int64"
          },
          "metadata": {}
        }
      ]
    },
    {
      "cell_type": "code",
      "source": [
        "train_origin['sleep_duration'].value_counts()"
      ],
      "metadata": {
        "execution": {
          "iopub.status.busy": "2024-11-04T11:33:50.599226Z",
          "iopub.execute_input": "2024-11-04T11:33:50.599765Z",
          "iopub.status.idle": "2024-11-04T11:33:50.638059Z",
          "shell.execute_reply.started": "2024-11-04T11:33:50.599685Z",
          "shell.execute_reply": "2024-11-04T11:33:50.636821Z"
        },
        "trusted": true,
        "id": "D-i_4QZQEnsz",
        "outputId": "6dd34cc9-aafc-4923-ca37-616adfe9242e"
      },
      "execution_count": null,
      "outputs": [
        {
          "execution_count": 311,
          "output_type": "execute_result",
          "data": {
            "text/plain": "sleep_duration\nLess than 5 hours    39426\n7-8 hours            37620\nMore than 8 hours    33345\n5-6 hours            32769\n3-4 hours               12\n6-7 hours                8\n4-5 hours                7\n2-3 hours                5\n4-6 hours                5\n6-8 hours                4\n1-6 hours                4\nNo                       4\n9-11 hours               2\n10-11 hours              2\nSleep_Duration           2\nUnhealthy                2\n45                       2\n8-9 hours                2\n10-6 hours               1\n9-5                      1\n45-48 hours              1\n3-6 hours                1\nWork_Study_Hours         1\n49 hours                 1\nthan 5 hours             1\nPune                     1\n9-6 hours                1\n8 hours                  1\n35-36 hours              1\nIndore                   1\n1-3 hours                1\n55-66 hours              1\nModerate                 1\n40-45 hours              1\n1-2 hours                1\n9-5 hours                1\nName: count, dtype: int64"
          },
          "metadata": {}
        }
      ]
    },
    {
      "cell_type": "code",
      "source": [
        "# Step 1: Calculate the mode\n",
        "mode_value_dietary_habits = train_origin['dietary_habits'].mode()[0]\n",
        "\n",
        "# Step 2: Define a threshold for rare values\n",
        "threshold = 50  # You can adjust this threshold based on your criteria\n",
        "\n",
        "# Step 3: Replace rare values with the mode\n",
        "# Count occurrences of each value\n",
        "value_counts = train_origin['dietary_habits'].value_counts()\n",
        "value_counts\n",
        "# # Identify rare values\n",
        "rare_values = value_counts[value_counts < threshold].index\n",
        "rare_values\n",
        "# # Replace rare values with the mode\n",
        "train_origin['dietary_habits'] = train_origin['dietary_habits'].replace(rare_values, mode_value_dietary_habits)\n",
        "\n",
        "# # Display the updated DataFrame\n",
        "train_origin['dietary_habits'].value_counts()\n"
      ],
      "metadata": {
        "execution": {
          "iopub.status.busy": "2024-11-04T11:33:56.094824Z",
          "iopub.execute_input": "2024-11-04T11:33:56.095697Z",
          "iopub.status.idle": "2024-11-04T11:33:56.392283Z",
          "shell.execute_reply.started": "2024-11-04T11:33:56.095647Z",
          "shell.execute_reply": "2024-11-04T11:33:56.390936Z"
        },
        "trusted": true,
        "id": "n3ftXO9hEnsz",
        "outputId": "e06d8a54-2789-4bf6-b03a-223483519c60"
      },
      "execution_count": null,
      "outputs": [
        {
          "execution_count": 312,
          "output_type": "execute_result",
          "data": {
            "text/plain": "dietary_habits\nModerate     50552\nUnhealthy    47104\nHealthy      45583\nName: count, dtype: int64"
          },
          "metadata": {}
        }
      ]
    },
    {
      "cell_type": "code",
      "source": [
        "# Step 1: Calculate the mode\n",
        "mode_value = train_origin['sleep_duration'].mode()[0]\n",
        "\n",
        "# Step 2: Define a threshold for rare values\n",
        "threshold = 50  # You can adjust this threshold based on your criteria\n",
        "\n",
        "# Step 3: Replace rare values with the mode\n",
        "# Count occurrences of each value\n",
        "value_counts = train_origin['sleep_duration'].value_counts()\n",
        "value_counts\n",
        "# # Identify rare values\n",
        "rare_values = value_counts[value_counts < threshold].index\n",
        "rare_values\n",
        "# # Replace rare values with the mode\n",
        "train_origin['sleep_duration'] = train_origin['sleep_duration'].replace(rare_values, mode_value)\n",
        "\n",
        "# # Display the updated DataFrame\n",
        "train_origin['sleep_duration'].value_counts()\n"
      ],
      "metadata": {
        "execution": {
          "iopub.status.busy": "2024-11-04T11:34:01.256704Z",
          "iopub.execute_input": "2024-11-04T11:34:01.257219Z",
          "iopub.status.idle": "2024-11-04T11:34:01.685807Z",
          "shell.execute_reply.started": "2024-11-04T11:34:01.257173Z",
          "shell.execute_reply": "2024-11-04T11:34:01.684161Z"
        },
        "trusted": true,
        "id": "koqi9LMrEnsz",
        "outputId": "b8b20d9a-8491-47af-f628-c011b3014f06"
      },
      "execution_count": null,
      "outputs": [
        {
          "execution_count": 313,
          "output_type": "execute_result",
          "data": {
            "text/plain": "sleep_duration\nLess than 5 hours    39505\n7-8 hours            37620\nMore than 8 hours    33345\n5-6 hours            32769\nName: count, dtype: int64"
          },
          "metadata": {}
        }
      ]
    },
    {
      "cell_type": "code",
      "source": [
        "# Step 1: Calculate the mode\n",
        "mode_value_degree = train_origin['degree'].mode()[0]\n",
        "\n",
        "# Step 2: Define a threshold for rare values\n",
        "threshold = 50  # You can adjust this threshold based on your criteria\n",
        "\n",
        "# Step 3: Replace rare values with the mode\n",
        "# Count occurrences of each value\n",
        "value_counts = train_origin['degree'].value_counts()\n",
        "value_counts\n",
        "# # Identify rare values\n",
        "rare_values = value_counts[value_counts < threshold].index\n",
        "rare_values\n",
        "# # Replace rare values with the mode\n",
        "train_origin['degree'] = train_origin['degree'].replace(rare_values, mode_value_degree)\n",
        "\n",
        "# # Display the updated DataFrame\n",
        "train_origin['degree'].value_counts()\n"
      ],
      "metadata": {
        "execution": {
          "iopub.status.busy": "2024-11-04T11:34:09.225551Z",
          "iopub.execute_input": "2024-11-04T11:34:09.226078Z",
          "iopub.status.idle": "2024-11-04T11:34:10.175229Z",
          "shell.execute_reply.started": "2024-11-04T11:34:09.226033Z",
          "shell.execute_reply": "2024-11-04T11:34:10.173834Z"
        },
        "trusted": true,
        "id": "PlzBeE6uEnsz",
        "outputId": "81983bed-bda4-4c26-8804-c5613e4147e2"
      },
      "execution_count": null,
      "outputs": [
        {
          "execution_count": 314,
          "output_type": "execute_result",
          "data": {
            "text/plain": "degree\nClass 12    15114\nB.Ed        11800\nB.Arch       8829\nB.Com        8227\nB.Pharm      5944\nBCA          5842\nM.Ed         5749\nMCA          5341\nBBA          5122\nBSc          5121\nMSc          4974\nLLM          4731\nM.Pharm      4622\nM.Tech       4560\nB.Tech       4496\nLLB          4430\nBHM          4393\nMBA          3912\nBA           3838\nME           3716\nMD           3457\nMHM          3367\nBE           3188\nPhD          3184\nM.Com        3159\nMBBS         3157\nMA           2966\nName: count, dtype: int64"
          },
          "metadata": {}
        }
      ]
    },
    {
      "cell_type": "code",
      "source": [
        "# Step 1: Calculate the mode\n",
        "mode_value_profession = train_origin['profession'].mode()[0]\n",
        "\n",
        "# Step 2: Define a threshold for rare values\n",
        "threshold = 50  # You can adjust this threshold based on your criteria\n",
        "\n",
        "# Step 3: Replace rare values with the mode\n",
        "# Count occurrences of each value\n",
        "value_counts = train_origin['profession'].value_counts()\n",
        "value_counts\n",
        "# # Identify rare values\n",
        "rare_values = value_counts[value_counts < threshold].index\n",
        "rare_values\n",
        "# # Replace rare values with the mode\n",
        "train_origin['profession'] = train_origin['profession'].replace(rare_values, mode_value_profession)\n",
        "\n",
        "# # Display the updated DataFrame\n",
        "train_origin['profession'].value_counts()\n"
      ],
      "metadata": {
        "execution": {
          "iopub.status.busy": "2024-11-04T11:35:02.979114Z",
          "iopub.execute_input": "2024-11-04T11:35:02.980372Z",
          "iopub.status.idle": "2024-11-04T11:35:03.083959Z",
          "shell.execute_reply.started": "2024-11-04T11:35:02.98031Z",
          "shell.execute_reply": "2024-11-04T11:35:03.082767Z"
        },
        "trusted": true,
        "id": "NNR4IkmHEns0",
        "outputId": "aa5e3ad9-7d21-4a70-8602-15639b88257d"
      },
      "execution_count": null,
      "outputs": [
        {
          "execution_count": 318,
          "output_type": "execute_result",
          "data": {
            "text/plain": "profession\nTeacher                   62564\nContent Writer             7930\nArchitect                  4443\nConsultant                 4301\nHR Manager                 4106\nPharmacist                 3968\nDoctor                     3321\nBusiness Analyst           3232\nEntrepreneur               3031\nChemist                    3026\nChef                       2921\nEducational Consultant     2896\nData Scientist             2432\nResearcher                 2373\nLawyer                     2260\nCustomer Support           2096\nMarketing Manager          2015\nPilot                      1952\nTravel Consultant          1906\nPlumber                    1783\nManager                    1779\nSales Executive            1771\nJudge                      1754\nElectrician                1615\nFinancial Analyst          1610\nSoftware Engineer          1544\nCivil Engineer             1501\nUX/UI Designer             1478\nDigital Marketer           1403\nFinanancial Analyst        1367\nAccountant                 1356\nMechanical Engineer        1207\nGraphic Designer           1189\nResearch Analyst            705\nInvestment Banker           404\nName: count, dtype: int64"
          },
          "metadata": {}
        }
      ]
    },
    {
      "cell_type": "code",
      "source": [
        "train_origin.shape"
      ],
      "metadata": {
        "execution": {
          "iopub.status.busy": "2024-11-04T11:35:06.643469Z",
          "iopub.execute_input": "2024-11-04T11:35:06.644Z",
          "iopub.status.idle": "2024-11-04T11:35:06.652553Z",
          "shell.execute_reply.started": "2024-11-04T11:35:06.643953Z",
          "shell.execute_reply": "2024-11-04T11:35:06.651167Z"
        },
        "trusted": true,
        "id": "a1qdPVIUEns0",
        "outputId": "e6abfbb9-147a-403f-e1da-2a3ba254ee56"
      },
      "execution_count": null,
      "outputs": [
        {
          "execution_count": 319,
          "output_type": "execute_result",
          "data": {
            "text/plain": "(143239, 16)"
          },
          "metadata": {}
        }
      ]
    },
    {
      "cell_type": "code",
      "source": [
        "train_origin.isnull().sum()"
      ],
      "metadata": {
        "execution": {
          "iopub.status.busy": "2024-11-04T11:35:14.441867Z",
          "iopub.execute_input": "2024-11-04T11:35:14.442929Z",
          "iopub.status.idle": "2024-11-04T11:35:14.613371Z",
          "shell.execute_reply.started": "2024-11-04T11:35:14.442858Z",
          "shell.execute_reply": "2024-11-04T11:35:14.612009Z"
        },
        "trusted": true,
        "id": "9AepeVTMEns0",
        "outputId": "3ef36c21-a0a3-499d-ac08-c52833017c15"
      },
      "execution_count": null,
      "outputs": [
        {
          "execution_count": 320,
          "output_type": "execute_result",
          "data": {
            "text/plain": "name                                     0\ngender                                   0\nage                                      0\ncity                                     0\nworking_professional_or_student          0\nprofession                               0\nwork_pressure                            0\njob_satisfaction                         0\nsleep_duration                           0\ndietary_habits                           0\ndegree                                   0\nhave_you_ever_had_suicidal_thoughts_?    0\nwork/study_hours                         0\nfinancial_stress                         0\nfamily_history_of_mental_illness         0\ndepression                               0\ndtype: int64"
          },
          "metadata": {}
        }
      ]
    },
    {
      "cell_type": "code",
      "source": [
        "train_origin.shape"
      ],
      "metadata": {
        "execution": {
          "iopub.status.busy": "2024-11-04T11:35:17.500899Z",
          "iopub.execute_input": "2024-11-04T11:35:17.50158Z",
          "iopub.status.idle": "2024-11-04T11:35:17.510893Z",
          "shell.execute_reply.started": "2024-11-04T11:35:17.501512Z",
          "shell.execute_reply": "2024-11-04T11:35:17.509549Z"
        },
        "trusted": true,
        "id": "W5P-iRcVEns0",
        "outputId": "1a4bb535-efe2-483d-93a5-e7b801a3f0bb"
      },
      "execution_count": null,
      "outputs": [
        {
          "execution_count": 321,
          "output_type": "execute_result",
          "data": {
            "text/plain": "(143239, 16)"
          },
          "metadata": {}
        }
      ]
    },
    {
      "cell_type": "code",
      "source": [
        "train_origin['sleep_duration'].value_counts()"
      ],
      "metadata": {
        "execution": {
          "iopub.status.busy": "2024-11-04T11:35:19.395457Z",
          "iopub.execute_input": "2024-11-04T11:35:19.396548Z",
          "iopub.status.idle": "2024-11-04T11:35:19.434632Z",
          "shell.execute_reply.started": "2024-11-04T11:35:19.396434Z",
          "shell.execute_reply": "2024-11-04T11:35:19.433263Z"
        },
        "trusted": true,
        "id": "Gr9esrUlEns0",
        "outputId": "b731c713-bd5b-4074-8ff0-070fabb6dc36"
      },
      "execution_count": null,
      "outputs": [
        {
          "execution_count": 322,
          "output_type": "execute_result",
          "data": {
            "text/plain": "sleep_duration\nLess than 5 hours    39505\n7-8 hours            37620\nMore than 8 hours    33345\n5-6 hours            32769\nName: count, dtype: int64"
          },
          "metadata": {}
        }
      ]
    },
    {
      "cell_type": "code",
      "source": [
        "train_origin.shape"
      ],
      "metadata": {
        "execution": {
          "iopub.status.busy": "2024-11-04T11:35:24.745791Z",
          "iopub.execute_input": "2024-11-04T11:35:24.746265Z",
          "iopub.status.idle": "2024-11-04T11:35:24.754653Z",
          "shell.execute_reply.started": "2024-11-04T11:35:24.746224Z",
          "shell.execute_reply": "2024-11-04T11:35:24.753406Z"
        },
        "trusted": true,
        "id": "DhM-eH18Ens5",
        "outputId": "69fa819f-a233-4deb-d95b-e643d1aba2e1"
      },
      "execution_count": null,
      "outputs": [
        {
          "execution_count": 323,
          "output_type": "execute_result",
          "data": {
            "text/plain": "(143239, 16)"
          },
          "metadata": {}
        }
      ]
    },
    {
      "cell_type": "code",
      "source": [
        "import pandas as pd\n",
        "from sklearn.preprocessing import OrdinalEncoder\n",
        "\n",
        "\n",
        "categorical_columns = train_origin.select_dtypes(include=['object', 'category']).columns.to_list()\n",
        "\n",
        "encoder = OrdinalEncoder(handle_unknown='use_encoded_value', unknown_value=-1)\n",
        "\n",
        "train_origin[categorical_columns] = encoder.fit_transform(train_origin[categorical_columns])\n",
        "train_origin.head(3)"
      ],
      "metadata": {
        "execution": {
          "iopub.status.busy": "2024-11-04T11:35:27.649203Z",
          "iopub.execute_input": "2024-11-04T11:35:27.650224Z",
          "iopub.status.idle": "2024-11-04T11:35:28.32619Z",
          "shell.execute_reply.started": "2024-11-04T11:35:27.650165Z",
          "shell.execute_reply": "2024-11-04T11:35:28.324894Z"
        },
        "trusted": true,
        "id": "kSe8KrNCEns5",
        "outputId": "e959fef7-2fb9-481e-fbad-8a7fbd695639"
      },
      "execution_count": null,
      "outputs": [
        {
          "execution_count": 324,
          "output_type": "execute_result",
          "data": {
            "text/plain": "    name  gender   age  city  working_professional_or_student  profession  \\\n0   11.0     0.0  49.0  50.0                              1.0         3.0   \n1  407.0     1.0  26.0  93.0                              1.0        32.0   \n2  417.0     1.0  33.0  97.0                              0.0        32.0   \n\n   work_pressure  job_satisfaction  sleep_duration  dietary_habits  degree  \\\n0            5.0               2.0             3.0             0.0     9.0   \n1            4.0               3.0             2.0             2.0    12.0   \n2            2.0               2.0             0.0             0.0     3.0   \n\n   have_you_ever_had_suicidal_thoughts_?  work/study_hours  financial_stress  \\\n0                                    0.0               1.0               2.0   \n1                                    1.0               7.0               3.0   \n2                                    1.0               3.0               1.0   \n\n   family_history_of_mental_illness  depression  \n0                               0.0           0  \n1                               0.0           1  \n2                               0.0           1  ",
            "text/html": "<div>\n<style scoped>\n    .dataframe tbody tr th:only-of-type {\n        vertical-align: middle;\n    }\n\n    .dataframe tbody tr th {\n        vertical-align: top;\n    }\n\n    .dataframe thead th {\n        text-align: right;\n    }\n</style>\n<table border=\"1\" class=\"dataframe\">\n  <thead>\n    <tr style=\"text-align: right;\">\n      <th></th>\n      <th>name</th>\n      <th>gender</th>\n      <th>age</th>\n      <th>city</th>\n      <th>working_professional_or_student</th>\n      <th>profession</th>\n      <th>work_pressure</th>\n      <th>job_satisfaction</th>\n      <th>sleep_duration</th>\n      <th>dietary_habits</th>\n      <th>degree</th>\n      <th>have_you_ever_had_suicidal_thoughts_?</th>\n      <th>work/study_hours</th>\n      <th>financial_stress</th>\n      <th>family_history_of_mental_illness</th>\n      <th>depression</th>\n    </tr>\n  </thead>\n  <tbody>\n    <tr>\n      <th>0</th>\n      <td>11.0</td>\n      <td>0.0</td>\n      <td>49.0</td>\n      <td>50.0</td>\n      <td>1.0</td>\n      <td>3.0</td>\n      <td>5.0</td>\n      <td>2.0</td>\n      <td>3.0</td>\n      <td>0.0</td>\n      <td>9.0</td>\n      <td>0.0</td>\n      <td>1.0</td>\n      <td>2.0</td>\n      <td>0.0</td>\n      <td>0</td>\n    </tr>\n    <tr>\n      <th>1</th>\n      <td>407.0</td>\n      <td>1.0</td>\n      <td>26.0</td>\n      <td>93.0</td>\n      <td>1.0</td>\n      <td>32.0</td>\n      <td>4.0</td>\n      <td>3.0</td>\n      <td>2.0</td>\n      <td>2.0</td>\n      <td>12.0</td>\n      <td>1.0</td>\n      <td>7.0</td>\n      <td>3.0</td>\n      <td>0.0</td>\n      <td>1</td>\n    </tr>\n    <tr>\n      <th>2</th>\n      <td>417.0</td>\n      <td>1.0</td>\n      <td>33.0</td>\n      <td>97.0</td>\n      <td>0.0</td>\n      <td>32.0</td>\n      <td>2.0</td>\n      <td>2.0</td>\n      <td>0.0</td>\n      <td>0.0</td>\n      <td>3.0</td>\n      <td>1.0</td>\n      <td>3.0</td>\n      <td>1.0</td>\n      <td>0.0</td>\n      <td>1</td>\n    </tr>\n  </tbody>\n</table>\n</div>"
          },
          "metadata": {}
        }
      ]
    },
    {
      "cell_type": "code",
      "source": [
        "train_origin.depression.value_counts()[1]/train_origin.depression.value_counts()[0]"
      ],
      "metadata": {
        "execution": {
          "iopub.status.busy": "2024-11-04T11:35:30.759218Z",
          "iopub.execute_input": "2024-11-04T11:35:30.760452Z",
          "iopub.status.idle": "2024-11-04T11:35:30.774027Z",
          "shell.execute_reply.started": "2024-11-04T11:35:30.760371Z",
          "shell.execute_reply": "2024-11-04T11:35:30.772508Z"
        },
        "trusted": true,
        "id": "OZwfAcB6Ens5",
        "outputId": "caa32477-a0e8-4745-cde2-9dc9723f7244"
      },
      "execution_count": null,
      "outputs": [
        {
          "execution_count": 325,
          "output_type": "execute_result",
          "data": {
            "text/plain": "0.2218734272236392"
          },
          "metadata": {}
        }
      ]
    },
    {
      "cell_type": "code",
      "source": [
        "test.isna().sum()/len(test)"
      ],
      "metadata": {
        "execution": {
          "iopub.status.busy": "2024-11-04T11:35:33.174988Z",
          "iopub.execute_input": "2024-11-04T11:35:33.176139Z",
          "iopub.status.idle": "2024-11-04T11:35:33.293395Z",
          "shell.execute_reply.started": "2024-11-04T11:35:33.176076Z",
          "shell.execute_reply": "2024-11-04T11:35:33.292106Z"
        },
        "trusted": true,
        "id": "hnyju3iAEns5",
        "outputId": "3a45ab67-f962-43ce-c84b-059aa4b05dba"
      },
      "execution_count": null,
      "outputs": [
        {
          "execution_count": 326,
          "output_type": "execute_result",
          "data": {
            "text/plain": "name                                     0.000000\ngender                                   0.000000\nage                                      0.000000\ncity                                     0.000000\nworking_professional_or_student          0.000000\nprofession                               0.262601\nacademic_pressure                        0.799925\nwork_pressure                            0.200192\ncgpa                                     0.799936\nstudy_satisfaction                       0.799925\njob_satisfaction                         0.200149\nsleep_duration                           0.000000\ndietary_habits                           0.000053\ndegree                                   0.000021\nhave_you_ever_had_suicidal_thoughts_?    0.000000\nwork/study_hours                         0.000000\nfinancial_stress                         0.000000\nfamily_history_of_mental_illness         0.000000\ndtype: float64"
          },
          "metadata": {}
        }
      ]
    },
    {
      "cell_type": "code",
      "source": [
        "y = train_origin['depression']\n",
        "X = train_origin.drop('depression', axis=1)"
      ],
      "metadata": {
        "execution": {
          "iopub.status.busy": "2024-11-04T11:36:18.415476Z",
          "iopub.execute_input": "2024-11-04T11:36:18.416502Z",
          "iopub.status.idle": "2024-11-04T11:36:18.431707Z",
          "shell.execute_reply.started": "2024-11-04T11:36:18.416445Z",
          "shell.execute_reply": "2024-11-04T11:36:18.430232Z"
        },
        "trusted": true,
        "id": "xKHQGIteEns5"
      },
      "execution_count": null,
      "outputs": []
    },
    {
      "cell_type": "code",
      "source": [
        "import pandas as pd\n",
        "from sklearn.model_selection import StratifiedKFold\n",
        "from sklearn.ensemble import RandomForestClassifier\n",
        "from sklearn.metrics import roc_auc_score, accuracy_score, precision_score, recall_score\n",
        "\n",
        "# Define StratifiedKFold\n",
        "skf = StratifiedKFold(n_splits=5, shuffle=True, random_state=1)  # 5-fold cross-validation\n",
        "\n",
        "# Model to train\n",
        "model_rf = RandomForestClassifier(class_weight='balanced', random_state=42)\n",
        "\n",
        "# Lists to store scores\n",
        "auc_scores = []\n",
        "accuracy_scores = []\n",
        "precision_scores = []\n",
        "recall_scores = []\n",
        "\n",
        "# Cross-validation process\n",
        "for train_index, test_index in skf.split(X, y):\n",
        "    X_train, X_test = X.iloc[train_index], X.iloc[test_index]\n",
        "    y_train, y_test = y.iloc[train_index], y.iloc[test_index]\n",
        "\n",
        "    # Train the model\n",
        "    model_rf.fit(X_train, y_train)\n",
        "\n",
        "    # Get predicted probabilities for the positive class\n",
        "    y_prob = model_rf.predict_proba(X_test)[:, 1]\n",
        "\n",
        "    # Get predicted class labels\n",
        "    y_pred = model_rf.predict(X_test)\n",
        "\n",
        "    # Calculate AUC\n",
        "    auc = roc_auc_score(y_test, y_prob)\n",
        "    auc_scores.append(auc)\n",
        "\n",
        "    # Calculate Accuracy\n",
        "    accuracy = accuracy_score(y_test, y_pred)\n",
        "    accuracy_scores.append(accuracy)\n",
        "\n",
        "    # Calculate Precision\n",
        "    precision = precision_score(y_test, y_pred, average='weighted')  # Use 'micro' or 'macro' if needed\n",
        "    precision_scores.append(precision)\n",
        "\n",
        "    # Calculate Recall\n",
        "    recall = recall_score(y_test, y_pred, average='weighted')  # Use 'micro' or 'macro' if needed\n",
        "    recall_scores.append(recall)\n",
        "\n",
        "# Average scores across all folds\n",
        "print(f\"Average AUC: {sum(auc_scores) / len(auc_scores):.4f}\")\n",
        "print(f\"Average Accuracy: {sum(accuracy_scores) / len(accuracy_scores):.4f}\")\n",
        "print(f\"Average Precision: {sum(precision_scores) / len(precision_scores):.4f}\")\n",
        "print(f\"Average Recall: {sum(recall_scores) / len(recall_scores):.4f}\")\n"
      ],
      "metadata": {
        "execution": {
          "iopub.status.busy": "2024-11-04T11:37:38.081602Z",
          "iopub.execute_input": "2024-11-04T11:37:38.082218Z",
          "iopub.status.idle": "2024-11-04T11:39:13.859667Z",
          "shell.execute_reply.started": "2024-11-04T11:37:38.082167Z",
          "shell.execute_reply": "2024-11-04T11:39:13.858337Z"
        },
        "trusted": true,
        "id": "nTFTZtzREns5",
        "outputId": "96f293c0-7f38-4b57-f6d4-525e3743c619"
      },
      "execution_count": null,
      "outputs": [
        {
          "name": "stdout",
          "text": "Average AUC: 0.9660\nAverage Accuracy: 0.9276\nAverage Precision: 0.9260\nAverage Recall: 0.9276\n",
          "output_type": "stream"
        }
      ]
    },
    {
      "cell_type": "code",
      "source": [
        "from catboost import CatBoostClassifier\n",
        "from sklearn.metrics import roc_auc_score, accuracy_score, precision_score, recall_score\n",
        "\n",
        "\n",
        "\n",
        "# Define StratifiedKFold\n",
        "skf = StratifiedKFold(n_splits=5, shuffle=True, random_state=1)  # 5-fold cross-validation\n",
        "\n",
        "# Model to train\n",
        "model_cb = CatBoostClassifier(iterations=1000, learning_rate=0.1, depth=6,\n",
        "                              class_weights=[1, 5],  # Adjust weights if needed\n",
        "                              random_seed=42,\n",
        "                              verbose=0)  # Set verbose to 0 to suppress output\n",
        "\n",
        "# Lists to store scores\n",
        "auc_scores = []\n",
        "accuracy_scores = []\n",
        "precision_scores = []\n",
        "recall_scores = []\n",
        "\n",
        "# Cross-validation process\n",
        "for train_index, test_index in skf.split(X, y):\n",
        "    X_train, X_test = X.iloc[train_index], X.iloc[test_index]\n",
        "    y_train, y_test = y.iloc[train_index], y.iloc[test_index]\n",
        "\n",
        "    # Train the model\n",
        "    model_cb.fit(X_train, y_train)\n",
        "\n",
        "    # Get predicted probabilities for the positive class\n",
        "    y_prob = model_cb.predict_proba(X_test)[:, 1]\n",
        "\n",
        "    # Get predicted class labels\n",
        "    y_pred = model_cb.predict(X_test)\n",
        "\n",
        "    # Calculate AUC\n",
        "    auc = roc_auc_score(y_test, y_prob)\n",
        "    auc_scores.append(auc)\n",
        "    print(auc)\n",
        "\n",
        "    # Calculate Accuracy\n",
        "    accuracy = accuracy_score(y_test, y_pred)\n",
        "    accuracy_scores.append(accuracy)\n",
        "    print(accuracy)\n",
        "\n",
        "    # Calculate Precision\n",
        "    precision = precision_score(y_test, y_pred, average='weighted')  # Use 'micro' or 'macro' if needed\n",
        "    precision_scores.append(precision)\n",
        "    print(precision)\n",
        "\n",
        "    # Calculate Recall\n",
        "    recall = recall_score(y_test, y_pred, average='weighted')  # Use 'micro' or 'macro' if needed\n",
        "    recall_scores.append(recall)\n",
        "    print(recall)\n",
        "\n",
        "# Average scores across all folds\n",
        "print(f\"Average AUC: {sum(auc_scores) / len(auc_scores):.4f}\")\n",
        "print(f\"Average Accuracy: {sum(accuracy_scores) / len(accuracy_scores):.4f}\")\n",
        "print(f\"Average Precision: {sum(precision_scores) / len(precision_scores):.4f}\")\n",
        "print(f\"Average Recall: {sum(recall_scores) / len(recall_scores):.4f}\")\n"
      ],
      "metadata": {
        "execution": {
          "iopub.status.busy": "2024-11-04T11:45:39.338862Z",
          "iopub.execute_input": "2024-11-04T11:45:39.34057Z",
          "iopub.status.idle": "2024-11-04T11:47:32.666195Z",
          "shell.execute_reply.started": "2024-11-04T11:45:39.34043Z",
          "shell.execute_reply": "2024-11-04T11:47:32.66502Z"
        },
        "trusted": true,
        "id": "dqmw7Z70Ens5",
        "outputId": "0eeb27c2-7b81-4266-8f3b-a5f711af23b1"
      },
      "execution_count": null,
      "outputs": [
        {
          "name": "stdout",
          "text": "0.9696246150118509\n0.9133970957833007\n0.9302142602076285\n0.9133970957833007\n0.9714242914333928\n0.9115470538955599\n0.9283507628938283\n0.9115470538955599\n0.970478270304832\n0.9133272828818766\n0.9295842046470456\n0.9133272828818766\n0.9676954558812951\n0.9107791119798939\n0.9271048869804689\n0.9107791119798939\n0.9694547243792663\n0.9105316438021434\n0.9278765644679202\n0.9105316438021434\nAverage AUC: 0.9697\nAverage Accuracy: 0.9119\nAverage Precision: 0.9286\nAverage Recall: 0.9119\n",
          "output_type": "stream"
        }
      ]
    },
    {
      "cell_type": "code",
      "source": [
        "with open('ordinal_encoder.pkl', 'wb') as f:\n",
        "    pickle.dump(encoder, f)"
      ],
      "metadata": {
        "execution": {
          "iopub.status.busy": "2024-11-04T11:04:56.828113Z",
          "iopub.execute_input": "2024-11-04T11:04:56.828643Z",
          "iopub.status.idle": "2024-11-04T11:04:56.836495Z",
          "shell.execute_reply.started": "2024-11-04T11:04:56.828593Z",
          "shell.execute_reply": "2024-11-04T11:04:56.835187Z"
        },
        "trusted": true,
        "id": "DVC24PJDEns5"
      },
      "execution_count": null,
      "outputs": []
    },
    {
      "cell_type": "code",
      "source": [
        "with open('/kaggle/working/ordinal_encoder.pkl', 'rb') as f:\n",
        "    ordinal_encoder = pickle.load(f)"
      ],
      "metadata": {
        "execution": {
          "iopub.status.busy": "2024-11-04T11:07:29.514318Z",
          "iopub.execute_input": "2024-11-04T11:07:29.514915Z",
          "iopub.status.idle": "2024-11-04T11:07:29.522252Z",
          "shell.execute_reply.started": "2024-11-04T11:07:29.514839Z",
          "shell.execute_reply": "2024-11-04T11:07:29.520789Z"
        },
        "trusted": true,
        "id": "GKtgcxFfEns6"
      },
      "execution_count": null,
      "outputs": []
    },
    {
      "cell_type": "code",
      "source": [
        "ordinal_encodr"
      ],
      "metadata": {
        "execution": {
          "iopub.status.busy": "2024-11-04T11:07:31.885247Z",
          "iopub.execute_input": "2024-11-04T11:07:31.886479Z",
          "iopub.status.idle": "2024-11-04T11:07:31.895816Z",
          "shell.execute_reply.started": "2024-11-04T11:07:31.886418Z",
          "shell.execute_reply": "2024-11-04T11:07:31.894438Z"
        },
        "trusted": true,
        "id": "lYX9avVREns6",
        "outputId": "9a1bf987-faf4-477f-ebb2-9583d95d7a5a"
      },
      "execution_count": null,
      "outputs": [
        {
          "execution_count": 190,
          "output_type": "execute_result",
          "data": {
            "text/plain": "OrdinalEncoder(handle_unknown='use_encoded_value', unknown_value=-1)",
            "text/html": "<style>#sk-container-id-2 {color: black;background-color: white;}#sk-container-id-2 pre{padding: 0;}#sk-container-id-2 div.sk-toggleable {background-color: white;}#sk-container-id-2 label.sk-toggleable__label {cursor: pointer;display: block;width: 100%;margin-bottom: 0;padding: 0.3em;box-sizing: border-box;text-align: center;}#sk-container-id-2 label.sk-toggleable__label-arrow:before {content: \"▸\";float: left;margin-right: 0.25em;color: #696969;}#sk-container-id-2 label.sk-toggleable__label-arrow:hover:before {color: black;}#sk-container-id-2 div.sk-estimator:hover label.sk-toggleable__label-arrow:before {color: black;}#sk-container-id-2 div.sk-toggleable__content {max-height: 0;max-width: 0;overflow: hidden;text-align: left;background-color: #f0f8ff;}#sk-container-id-2 div.sk-toggleable__content pre {margin: 0.2em;color: black;border-radius: 0.25em;background-color: #f0f8ff;}#sk-container-id-2 input.sk-toggleable__control:checked~div.sk-toggleable__content {max-height: 200px;max-width: 100%;overflow: auto;}#sk-container-id-2 input.sk-toggleable__control:checked~label.sk-toggleable__label-arrow:before {content: \"▾\";}#sk-container-id-2 div.sk-estimator input.sk-toggleable__control:checked~label.sk-toggleable__label {background-color: #d4ebff;}#sk-container-id-2 div.sk-label input.sk-toggleable__control:checked~label.sk-toggleable__label {background-color: #d4ebff;}#sk-container-id-2 input.sk-hidden--visually {border: 0;clip: rect(1px 1px 1px 1px);clip: rect(1px, 1px, 1px, 1px);height: 1px;margin: -1px;overflow: hidden;padding: 0;position: absolute;width: 1px;}#sk-container-id-2 div.sk-estimator {font-family: monospace;background-color: #f0f8ff;border: 1px dotted black;border-radius: 0.25em;box-sizing: border-box;margin-bottom: 0.5em;}#sk-container-id-2 div.sk-estimator:hover {background-color: #d4ebff;}#sk-container-id-2 div.sk-parallel-item::after {content: \"\";width: 100%;border-bottom: 1px solid gray;flex-grow: 1;}#sk-container-id-2 div.sk-label:hover label.sk-toggleable__label {background-color: #d4ebff;}#sk-container-id-2 div.sk-serial::before {content: \"\";position: absolute;border-left: 1px solid gray;box-sizing: border-box;top: 0;bottom: 0;left: 50%;z-index: 0;}#sk-container-id-2 div.sk-serial {display: flex;flex-direction: column;align-items: center;background-color: white;padding-right: 0.2em;padding-left: 0.2em;position: relative;}#sk-container-id-2 div.sk-item {position: relative;z-index: 1;}#sk-container-id-2 div.sk-parallel {display: flex;align-items: stretch;justify-content: center;background-color: white;position: relative;}#sk-container-id-2 div.sk-item::before, #sk-container-id-2 div.sk-parallel-item::before {content: \"\";position: absolute;border-left: 1px solid gray;box-sizing: border-box;top: 0;bottom: 0;left: 50%;z-index: -1;}#sk-container-id-2 div.sk-parallel-item {display: flex;flex-direction: column;z-index: 1;position: relative;background-color: white;}#sk-container-id-2 div.sk-parallel-item:first-child::after {align-self: flex-end;width: 50%;}#sk-container-id-2 div.sk-parallel-item:last-child::after {align-self: flex-start;width: 50%;}#sk-container-id-2 div.sk-parallel-item:only-child::after {width: 0;}#sk-container-id-2 div.sk-dashed-wrapped {border: 1px dashed gray;margin: 0 0.4em 0.5em 0.4em;box-sizing: border-box;padding-bottom: 0.4em;background-color: white;}#sk-container-id-2 div.sk-label label {font-family: monospace;font-weight: bold;display: inline-block;line-height: 1.2em;}#sk-container-id-2 div.sk-label-container {text-align: center;}#sk-container-id-2 div.sk-container {/* jupyter's `normalize.less` sets `[hidden] { display: none; }` but bootstrap.min.css set `[hidden] { display: none !important; }` so we also need the `!important` here to be able to override the default hidden behavior on the sphinx rendered scikit-learn.org. See: https://github.com/scikit-learn/scikit-learn/issues/21755 */display: inline-block !important;position: relative;}#sk-container-id-2 div.sk-text-repr-fallback {display: none;}</style><div id=\"sk-container-id-2\" class=\"sk-top-container\"><div class=\"sk-text-repr-fallback\"><pre>OrdinalEncoder(handle_unknown=&#x27;use_encoded_value&#x27;, unknown_value=-1)</pre><b>In a Jupyter environment, please rerun this cell to show the HTML representation or trust the notebook. <br />On GitHub, the HTML representation is unable to render, please try loading this page with nbviewer.org.</b></div><div class=\"sk-container\" hidden><div class=\"sk-item\"><div class=\"sk-estimator sk-toggleable\"><input class=\"sk-toggleable__control sk-hidden--visually\" id=\"sk-estimator-id-2\" type=\"checkbox\" checked><label for=\"sk-estimator-id-2\" class=\"sk-toggleable__label sk-toggleable__label-arrow\">OrdinalEncoder</label><div class=\"sk-toggleable__content\"><pre>OrdinalEncoder(handle_unknown=&#x27;use_encoded_value&#x27;, unknown_value=-1)</pre></div></div></div></div></div>"
          },
          "metadata": {}
        }
      ]
    },
    {
      "cell_type": "code",
      "source": [
        "new_df = train.iloc[:5, :]\n",
        "cat = new_df.select_dtypes(include=['object', 'category']).columns.to_list()\n",
        "new_df[cat] = ordinal_encoder.transform(new_df[cat])\n",
        "new_df.head()"
      ],
      "metadata": {
        "execution": {
          "iopub.status.busy": "2024-11-04T11:09:23.752201Z",
          "iopub.execute_input": "2024-11-04T11:09:23.752694Z",
          "iopub.status.idle": "2024-11-04T11:09:23.810068Z",
          "shell.execute_reply.started": "2024-11-04T11:09:23.752648Z",
          "shell.execute_reply": "2024-11-04T11:09:23.808348Z"
        },
        "trusted": true,
        "id": "40IdDXoLEns6",
        "outputId": "595ff272-88b4-4ac8-af98-382fc35aaef1"
      },
      "execution_count": null,
      "outputs": [
        {
          "name": "stderr",
          "text": "/tmp/ipykernel_30/75164489.py:3: SettingWithCopyWarning: \nA value is trying to be set on a copy of a slice from a DataFrame.\nTry using .loc[row_indexer,col_indexer] = value instead\n\nSee the caveats in the documentation: https://pandas.pydata.org/pandas-docs/stable/user_guide/indexing.html#returning-a-view-versus-a-copy\n  new_df[cat] = ordinal_encoder.transform(new_df[cat])\n",
          "output_type": "stream"
        },
        {
          "execution_count": 193,
          "output_type": "execute_result",
          "data": {
            "text/plain": "    name  gender   age  city  working_professional_or_student  profession  \\\n0   11.0     0.0  49.0  50.0                              1.0         3.0   \n1  405.0     1.0  26.0  92.0                              1.0        32.0   \n2  415.0     1.0  33.0  96.0                              0.0        -1.0   \n3  415.0     1.0  22.0  64.0                              1.0        32.0   \n4  285.0     0.0  30.0  37.0                              1.0         2.0   \n\n   academic_pressure  work_pressure  cgpa  study_satisfaction  \\\n0                NaN            5.0   NaN                 NaN   \n1                NaN            4.0   NaN                 NaN   \n2                5.0            NaN  8.97                 2.0   \n3                NaN            5.0   NaN                 NaN   \n4                NaN            1.0   NaN                 NaN   \n\n   job_satisfaction  sleep_duration  dietary_habits  degree  \\\n0               2.0             3.0             0.0     9.0   \n1               3.0             2.0             2.0    12.0   \n2               NaN             0.0             0.0     3.0   \n3               1.0             2.0             1.0     6.0   \n4               1.0             0.0             2.0     6.0   \n\n   have_you_ever_had_suicidal_thoughts_?  work/study_hours  financial_stress  \\\n0                                    0.0               1.0               2.0   \n1                                    1.0               7.0               3.0   \n2                                    1.0               3.0               1.0   \n3                                    1.0              10.0               1.0   \n4                                    1.0               9.0               4.0   \n\n   family_history_of_mental_illness  depression  \n0                               0.0           0  \n1                               0.0           1  \n2                               0.0           1  \n3                               1.0           1  \n4                               1.0           0  ",
            "text/html": "<div>\n<style scoped>\n    .dataframe tbody tr th:only-of-type {\n        vertical-align: middle;\n    }\n\n    .dataframe tbody tr th {\n        vertical-align: top;\n    }\n\n    .dataframe thead th {\n        text-align: right;\n    }\n</style>\n<table border=\"1\" class=\"dataframe\">\n  <thead>\n    <tr style=\"text-align: right;\">\n      <th></th>\n      <th>name</th>\n      <th>gender</th>\n      <th>age</th>\n      <th>city</th>\n      <th>working_professional_or_student</th>\n      <th>profession</th>\n      <th>academic_pressure</th>\n      <th>work_pressure</th>\n      <th>cgpa</th>\n      <th>study_satisfaction</th>\n      <th>job_satisfaction</th>\n      <th>sleep_duration</th>\n      <th>dietary_habits</th>\n      <th>degree</th>\n      <th>have_you_ever_had_suicidal_thoughts_?</th>\n      <th>work/study_hours</th>\n      <th>financial_stress</th>\n      <th>family_history_of_mental_illness</th>\n      <th>depression</th>\n    </tr>\n  </thead>\n  <tbody>\n    <tr>\n      <th>0</th>\n      <td>11.0</td>\n      <td>0.0</td>\n      <td>49.0</td>\n      <td>50.0</td>\n      <td>1.0</td>\n      <td>3.0</td>\n      <td>NaN</td>\n      <td>5.0</td>\n      <td>NaN</td>\n      <td>NaN</td>\n      <td>2.0</td>\n      <td>3.0</td>\n      <td>0.0</td>\n      <td>9.0</td>\n      <td>0.0</td>\n      <td>1.0</td>\n      <td>2.0</td>\n      <td>0.0</td>\n      <td>0</td>\n    </tr>\n    <tr>\n      <th>1</th>\n      <td>405.0</td>\n      <td>1.0</td>\n      <td>26.0</td>\n      <td>92.0</td>\n      <td>1.0</td>\n      <td>32.0</td>\n      <td>NaN</td>\n      <td>4.0</td>\n      <td>NaN</td>\n      <td>NaN</td>\n      <td>3.0</td>\n      <td>2.0</td>\n      <td>2.0</td>\n      <td>12.0</td>\n      <td>1.0</td>\n      <td>7.0</td>\n      <td>3.0</td>\n      <td>0.0</td>\n      <td>1</td>\n    </tr>\n    <tr>\n      <th>2</th>\n      <td>415.0</td>\n      <td>1.0</td>\n      <td>33.0</td>\n      <td>96.0</td>\n      <td>0.0</td>\n      <td>-1.0</td>\n      <td>5.0</td>\n      <td>NaN</td>\n      <td>8.97</td>\n      <td>2.0</td>\n      <td>NaN</td>\n      <td>0.0</td>\n      <td>0.0</td>\n      <td>3.0</td>\n      <td>1.0</td>\n      <td>3.0</td>\n      <td>1.0</td>\n      <td>0.0</td>\n      <td>1</td>\n    </tr>\n    <tr>\n      <th>3</th>\n      <td>415.0</td>\n      <td>1.0</td>\n      <td>22.0</td>\n      <td>64.0</td>\n      <td>1.0</td>\n      <td>32.0</td>\n      <td>NaN</td>\n      <td>5.0</td>\n      <td>NaN</td>\n      <td>NaN</td>\n      <td>1.0</td>\n      <td>2.0</td>\n      <td>1.0</td>\n      <td>6.0</td>\n      <td>1.0</td>\n      <td>10.0</td>\n      <td>1.0</td>\n      <td>1.0</td>\n      <td>1</td>\n    </tr>\n    <tr>\n      <th>4</th>\n      <td>285.0</td>\n      <td>0.0</td>\n      <td>30.0</td>\n      <td>37.0</td>\n      <td>1.0</td>\n      <td>2.0</td>\n      <td>NaN</td>\n      <td>1.0</td>\n      <td>NaN</td>\n      <td>NaN</td>\n      <td>1.0</td>\n      <td>0.0</td>\n      <td>2.0</td>\n      <td>6.0</td>\n      <td>1.0</td>\n      <td>9.0</td>\n      <td>4.0</td>\n      <td>1.0</td>\n      <td>0</td>\n    </tr>\n  </tbody>\n</table>\n</div>"
          },
          "metadata": {}
        }
      ]
    }
  ]
}